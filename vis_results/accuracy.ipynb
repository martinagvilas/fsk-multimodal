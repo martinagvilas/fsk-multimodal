{
 "cells": [
  {
   "cell_type": "code",
   "execution_count": 1,
   "id": "4d7e2cdb",
   "metadata": {
    "tags": []
   },
   "outputs": [],
   "source": [
    "models = ['clip', 'albef', 'vilt']\n",
    "metrics = ['standard_pearson']"
   ]
  },
  {
   "cell_type": "code",
   "execution_count": 4,
   "id": "89a8edca",
   "metadata": {
    "tags": []
   },
   "outputs": [],
   "source": [
    "from pathlib import Path\n",
    "\n",
    "import numpy as np\n",
    "import matplotlib.pyplot as plt\n",
    "import pandas as pd\n",
    "from scipy.spatial.distance import cdist\n",
    "from scipy.stats import ttest_rel\n",
    "import seaborn as sns\n",
    "from sklearn.preprocessing import StandardScaler\n",
    "import torch\n",
    "\n",
    "from fsk.dataprep.utils import (\n",
    "    get_concepts_info, get_feature_idx_map, get_fsk, \n",
    "    get_fsk_features, get_synsets_ids\n",
    ")\n",
    "\n",
    "from fsk.similarity.sem_distances import get_mcrae_features\n",
    "\n",
    "from IPython.display import Image\n",
    "#pd.set_option('display.max_rows', None)"
   ]
  },
  {
   "cell_type": "code",
   "execution_count": 5,
   "id": "94b38ca2",
   "metadata": {
    "tags": []
   },
   "outputs": [],
   "source": [
    "project_path = Path('/Users/m_vilas/projects/fsk-multimodal')\n",
    "res_path = project_path / 'results/'\n",
    "image_path = project_path / 'dataset/things/object_images'"
   ]
  },
  {
   "cell_type": "code",
   "execution_count": 6,
   "id": "d6a4f5d1",
   "metadata": {
    "tags": []
   },
   "outputs": [],
   "source": [
    "# Synsets and Concepts data\n",
    "s_ids, concepts = get_synsets_ids(project_path / 'dataset')\n",
    "synsets = list(s_ids.keys())\n",
    "mcrae_concepts = concepts['mcrae']\n",
    "things_concepts = concepts['things']\n",
    "concepts_info = get_concepts_info(project_path / 'dataset')\n",
    "\n",
    "# Features data\n",
    "fsk = get_fsk(project_path / 'dataset')\n",
    "ft_idx = get_feature_idx_map(project_path / 'dataset/annotations')\n",
    "ft_idx = {val: key for key, val in ft_idx.items()}\n",
    "fsk_ft = get_fsk_features(project_path / 'dataset')\n",
    "mcrae_ft = get_mcrae_features(project_path, list(s_ids.keys()), mcrae_concepts, None)\n",
    "sem_ft = mcrae_ft.values"
   ]
  },
  {
   "cell_type": "markdown",
   "id": "a6d15bb7",
   "metadata": {
    "tags": []
   },
   "source": [
    "# Concept Match"
   ]
  },
  {
   "cell_type": "markdown",
   "id": "8fb1797f-22bb-41a1-ac0f-154ff5ca52e8",
   "metadata": {},
   "source": [
    "__Q:__ Do V+L accurately detect the concept depicted in the image?"
   ]
  },
  {
   "cell_type": "code",
   "execution_count": null,
   "id": "a6d8d654-e539-4661-84f9-2ab8d871d725",
   "metadata": {},
   "outputs": [],
   "source": []
  },
  {
   "cell_type": "code",
   "execution_count": 14,
   "id": "cd0e9cf3",
   "metadata": {
    "tags": []
   },
   "outputs": [
    {
     "name": "stdout",
     "output_type": "stream",
     "text": [
      "clip\n",
      "Top1 accuracy: 0.8301542207792207\n",
      "Top5 accuracy: 0.9659090909090909\n",
      "Top10 accuracy: 0.9831574675324676\n",
      "\n",
      "\n",
      "albef\n",
      "Top1 accuracy: 0.8110795454545454\n",
      "Top5 accuracy: 0.948051948051948\n",
      "Top10 accuracy: 0.9638798701298701\n",
      "\n",
      "\n",
      "vilt\n",
      "Top1 accuracy: 0.5186688311688312\n",
      "Top5 accuracy: 0.7719155844155844\n",
      "Top10 accuracy: 0.8398944805194806\n",
      "\n",
      "\n"
     ]
    }
   ],
   "source": [
    "top_k = [1, 5, 10]\n",
    "\n",
    "c_preds = {}\n",
    "for m in models:\n",
    "    m_preds = []\n",
    "    c_match_path = res_path / m / 'concept_match'\n",
    "    for s, s_imgs in s_ids.items():\n",
    "        correct_val = synsets.index(s)\n",
    "        for img in s_imgs:\n",
    "            val = [s, img]\n",
    "            i_pred = torch.load(c_match_path / f'{img}.pt', map_location=torch.device('cpu')).to(torch.float64)\n",
    "            top_indices = i_pred.topk(15)[1]\n",
    "            val.append([synsets[i] for i in top_indices])\n",
    "            for t in top_k:\n",
    "                val.append(correct_val in top_indices[:t])\n",
    "            m_preds.append(val)\n",
    "    c_preds[m] = pd.DataFrame(m_preds, columns=['synset', 'image', 'preds', 'top1', 'top5', 'top10'])\n",
    "    print(m)\n",
    "    print(f\"Top1 accuracy: {c_preds[m]['top1'].mean()}\")\n",
    "    print(f\"Top5 accuracy: {c_preds[m]['top5'].mean()}\")\n",
    "    print(f\"Top10 accuracy: {c_preds[m]['top10'].mean()}\")\n",
    "    print(\"\\n\")\n"
   ]
  },
  {
   "cell_type": "code",
   "execution_count": 72,
   "id": "25f771bc-d681-43ac-8536-2490df22d6c8",
   "metadata": {},
   "outputs": [
    {
     "data": {
      "text/html": [
       "<div>\n",
       "<style scoped>\n",
       "    .dataframe tbody tr th:only-of-type {\n",
       "        vertical-align: middle;\n",
       "    }\n",
       "\n",
       "    .dataframe tbody tr th {\n",
       "        vertical-align: top;\n",
       "    }\n",
       "\n",
       "    .dataframe thead th {\n",
       "        text-align: right;\n",
       "    }\n",
       "</style>\n",
       "<table border=\"1\" class=\"dataframe\">\n",
       "  <thead>\n",
       "    <tr style=\"text-align: right;\">\n",
       "      <th></th>\n",
       "      <th></th>\n",
       "      <th>synset</th>\n",
       "      <th>image</th>\n",
       "      <th>preds</th>\n",
       "      <th>top1</th>\n",
       "      <th>top5</th>\n",
       "      <th>top10</th>\n",
       "    </tr>\n",
       "  </thead>\n",
       "  <tbody>\n",
       "    <tr>\n",
       "      <th rowspan=\"14\" valign=\"top\">clip</th>\n",
       "      <th>0</th>\n",
       "      <td>accordion-n-01</td>\n",
       "      <td>accordion_01b</td>\n",
       "      <td>[accordion-n-01, harp-n-01, harmonica-n-01, ke...</td>\n",
       "      <td>True</td>\n",
       "      <td>True</td>\n",
       "      <td>True</td>\n",
       "    </tr>\n",
       "    <tr>\n",
       "      <th>1</th>\n",
       "      <td>accordion-n-01</td>\n",
       "      <td>accordion_07s</td>\n",
       "      <td>[accordion-n-01, harp-n-01, harmonica-n-01, gr...</td>\n",
       "      <td>True</td>\n",
       "      <td>True</td>\n",
       "      <td>True</td>\n",
       "    </tr>\n",
       "    <tr>\n",
       "      <th>2</th>\n",
       "      <td>accordion-n-01</td>\n",
       "      <td>accordion_11s</td>\n",
       "      <td>[accordion-n-01, harmonica-n-01, bag-n-01, buc...</td>\n",
       "      <td>True</td>\n",
       "      <td>True</td>\n",
       "      <td>True</td>\n",
       "    </tr>\n",
       "    <tr>\n",
       "      <th>3</th>\n",
       "      <td>accordion-n-01</td>\n",
       "      <td>accordion_10s</td>\n",
       "      <td>[accordion-n-01, harmonica-n-01, harp-n-01, ba...</td>\n",
       "      <td>True</td>\n",
       "      <td>True</td>\n",
       "      <td>True</td>\n",
       "    </tr>\n",
       "    <tr>\n",
       "      <th>4</th>\n",
       "      <td>accordion-n-01</td>\n",
       "      <td>accordion_06s</td>\n",
       "      <td>[accordion-n-01, piano-n-01, keyboard-n-01, ha...</td>\n",
       "      <td>True</td>\n",
       "      <td>True</td>\n",
       "      <td>True</td>\n",
       "    </tr>\n",
       "    <tr>\n",
       "      <th>5</th>\n",
       "      <td>accordion-n-01</td>\n",
       "      <td>accordion_13s</td>\n",
       "      <td>[accordion-n-01, harmonica-n-01, piano-n-01, k...</td>\n",
       "      <td>True</td>\n",
       "      <td>True</td>\n",
       "      <td>True</td>\n",
       "    </tr>\n",
       "    <tr>\n",
       "      <th>6</th>\n",
       "      <td>accordion-n-01</td>\n",
       "      <td>accordion_05s</td>\n",
       "      <td>[accordion-n-01, harp-n-01, clarinet-n-01, bag...</td>\n",
       "      <td>True</td>\n",
       "      <td>True</td>\n",
       "      <td>True</td>\n",
       "    </tr>\n",
       "    <tr>\n",
       "      <th>7</th>\n",
       "      <td>accordion-n-01</td>\n",
       "      <td>accordion_09s</td>\n",
       "      <td>[accordion-n-01, bag-n-01, harmonica-n-01, pia...</td>\n",
       "      <td>True</td>\n",
       "      <td>True</td>\n",
       "      <td>True</td>\n",
       "    </tr>\n",
       "    <tr>\n",
       "      <th>8</th>\n",
       "      <td>accordion-n-01</td>\n",
       "      <td>accordion_08s</td>\n",
       "      <td>[accordion-n-01, piano-n-01, harmonica-n-01, c...</td>\n",
       "      <td>True</td>\n",
       "      <td>True</td>\n",
       "      <td>True</td>\n",
       "    </tr>\n",
       "    <tr>\n",
       "      <th>9</th>\n",
       "      <td>accordion-n-01</td>\n",
       "      <td>accordion_04s</td>\n",
       "      <td>[accordion-n-01, banjo-n-01, harp-n-01, rug-n-...</td>\n",
       "      <td>True</td>\n",
       "      <td>True</td>\n",
       "      <td>True</td>\n",
       "    </tr>\n",
       "    <tr>\n",
       "      <th>10</th>\n",
       "      <td>accordion-n-01</td>\n",
       "      <td>accordion_12s</td>\n",
       "      <td>[accordion-n-01, harp-n-01, piano-n-01, harmon...</td>\n",
       "      <td>True</td>\n",
       "      <td>True</td>\n",
       "      <td>True</td>\n",
       "    </tr>\n",
       "    <tr>\n",
       "      <th>11</th>\n",
       "      <td>accordion-n-01</td>\n",
       "      <td>accordion_03s</td>\n",
       "      <td>[accordion-n-01, piano-n-01, rug-n-01, harp-n-...</td>\n",
       "      <td>True</td>\n",
       "      <td>True</td>\n",
       "      <td>True</td>\n",
       "    </tr>\n",
       "    <tr>\n",
       "      <th>12</th>\n",
       "      <td>accordion-n-01</td>\n",
       "      <td>accordion_02s</td>\n",
       "      <td>[accordion-n-01, typewriter-n-01, piano-n-01, ...</td>\n",
       "      <td>True</td>\n",
       "      <td>True</td>\n",
       "      <td>True</td>\n",
       "    </tr>\n",
       "    <tr>\n",
       "      <th>13</th>\n",
       "      <td>accordion-n-01</td>\n",
       "      <td>accordion_14s</td>\n",
       "      <td>[accordion-n-01, bagpipe-n-01, harp-n-01, banj...</td>\n",
       "      <td>True</td>\n",
       "      <td>True</td>\n",
       "      <td>True</td>\n",
       "    </tr>\n",
       "    <tr>\n",
       "      <th rowspan=\"14\" valign=\"top\">albef</th>\n",
       "      <th>0</th>\n",
       "      <td>accordion-n-01</td>\n",
       "      <td>accordion_01b</td>\n",
       "      <td>[accordion-n-01, rock-n-01, cranberry-n-02, ch...</td>\n",
       "      <td>True</td>\n",
       "      <td>True</td>\n",
       "      <td>True</td>\n",
       "    </tr>\n",
       "    <tr>\n",
       "      <th>1</th>\n",
       "      <td>accordion-n-01</td>\n",
       "      <td>accordion_07s</td>\n",
       "      <td>[accordion-n-01, rock-n-01, bomb-n-01, jar-n-0...</td>\n",
       "      <td>True</td>\n",
       "      <td>True</td>\n",
       "      <td>True</td>\n",
       "    </tr>\n",
       "    <tr>\n",
       "      <th>2</th>\n",
       "      <td>accordion-n-01</td>\n",
       "      <td>accordion_11s</td>\n",
       "      <td>[accordion-n-01, skunk-n-04, fan-n-01, rock-n-...</td>\n",
       "      <td>True</td>\n",
       "      <td>True</td>\n",
       "      <td>True</td>\n",
       "    </tr>\n",
       "    <tr>\n",
       "      <th>3</th>\n",
       "      <td>accordion-n-01</td>\n",
       "      <td>accordion_10s</td>\n",
       "      <td>[accordion-n-01, rock-n-01, book-n-01, owl-n-0...</td>\n",
       "      <td>True</td>\n",
       "      <td>True</td>\n",
       "      <td>True</td>\n",
       "    </tr>\n",
       "    <tr>\n",
       "      <th>4</th>\n",
       "      <td>accordion-n-01</td>\n",
       "      <td>accordion_06s</td>\n",
       "      <td>[accordion-n-01, keyboard-n-01, rock-n-01, ban...</td>\n",
       "      <td>True</td>\n",
       "      <td>True</td>\n",
       "      <td>True</td>\n",
       "    </tr>\n",
       "    <tr>\n",
       "      <th>5</th>\n",
       "      <td>accordion-n-01</td>\n",
       "      <td>accordion_13s</td>\n",
       "      <td>[accordion-n-01, keyboard-n-01, cushion-n-03, ...</td>\n",
       "      <td>True</td>\n",
       "      <td>True</td>\n",
       "      <td>True</td>\n",
       "    </tr>\n",
       "    <tr>\n",
       "      <th>6</th>\n",
       "      <td>accordion-n-01</td>\n",
       "      <td>accordion_05s</td>\n",
       "      <td>[accordion-n-01, rock-n-01, pearl-n-01, jar-n-...</td>\n",
       "      <td>True</td>\n",
       "      <td>True</td>\n",
       "      <td>True</td>\n",
       "    </tr>\n",
       "    <tr>\n",
       "      <th>7</th>\n",
       "      <td>accordion-n-01</td>\n",
       "      <td>accordion_09s</td>\n",
       "      <td>[accordion-n-01, owl-n-01, harmonica-n-01, dan...</td>\n",
       "      <td>True</td>\n",
       "      <td>True</td>\n",
       "      <td>True</td>\n",
       "    </tr>\n",
       "    <tr>\n",
       "      <th>8</th>\n",
       "      <td>accordion-n-01</td>\n",
       "      <td>accordion_08s</td>\n",
       "      <td>[accordion-n-01, fan-n-01, plug-n-05, whistle-...</td>\n",
       "      <td>True</td>\n",
       "      <td>True</td>\n",
       "      <td>True</td>\n",
       "    </tr>\n",
       "    <tr>\n",
       "      <th>9</th>\n",
       "      <td>accordion-n-01</td>\n",
       "      <td>accordion_04s</td>\n",
       "      <td>[accordion-n-01, box-n-01, rug-n-01, cushion-n...</td>\n",
       "      <td>True</td>\n",
       "      <td>True</td>\n",
       "      <td>True</td>\n",
       "    </tr>\n",
       "    <tr>\n",
       "      <th>10</th>\n",
       "      <td>accordion-n-01</td>\n",
       "      <td>accordion_12s</td>\n",
       "      <td>[accordion-n-01, cranberry-n-02, rock-n-01, fa...</td>\n",
       "      <td>True</td>\n",
       "      <td>True</td>\n",
       "      <td>True</td>\n",
       "    </tr>\n",
       "    <tr>\n",
       "      <th>11</th>\n",
       "      <td>accordion-n-01</td>\n",
       "      <td>accordion_03s</td>\n",
       "      <td>[accordion-n-01, beehive-n-02, rug-n-01, banne...</td>\n",
       "      <td>True</td>\n",
       "      <td>True</td>\n",
       "      <td>True</td>\n",
       "    </tr>\n",
       "    <tr>\n",
       "      <th>12</th>\n",
       "      <td>accordion-n-01</td>\n",
       "      <td>accordion_02s</td>\n",
       "      <td>[accordion-n-01, fan-n-01, cranberry-n-02, ora...</td>\n",
       "      <td>True</td>\n",
       "      <td>True</td>\n",
       "      <td>True</td>\n",
       "    </tr>\n",
       "    <tr>\n",
       "      <th>13</th>\n",
       "      <td>accordion-n-01</td>\n",
       "      <td>accordion_14s</td>\n",
       "      <td>[accordion-n-01, rock-n-01, belt-n-02, pearl-n...</td>\n",
       "      <td>True</td>\n",
       "      <td>True</td>\n",
       "      <td>True</td>\n",
       "    </tr>\n",
       "    <tr>\n",
       "      <th rowspan=\"14\" valign=\"top\">vilt</th>\n",
       "      <th>0</th>\n",
       "      <td>accordion-n-01</td>\n",
       "      <td>accordion_01b</td>\n",
       "      <td>[harp-n-01, accordion-n-01, clarinet-n-01, pli...</td>\n",
       "      <td>False</td>\n",
       "      <td>True</td>\n",
       "      <td>True</td>\n",
       "    </tr>\n",
       "    <tr>\n",
       "      <th>1</th>\n",
       "      <td>accordion-n-01</td>\n",
       "      <td>accordion_07s</td>\n",
       "      <td>[accordion-n-01, bagpipe-n-01, harp-n-01, cros...</td>\n",
       "      <td>True</td>\n",
       "      <td>True</td>\n",
       "      <td>True</td>\n",
       "    </tr>\n",
       "    <tr>\n",
       "      <th>2</th>\n",
       "      <td>accordion-n-01</td>\n",
       "      <td>accordion_11s</td>\n",
       "      <td>[accordion-n-01, bag-n-01, drum-n-01, buckle-n...</td>\n",
       "      <td>True</td>\n",
       "      <td>True</td>\n",
       "      <td>True</td>\n",
       "    </tr>\n",
       "    <tr>\n",
       "      <th>3</th>\n",
       "      <td>accordion-n-01</td>\n",
       "      <td>accordion_10s</td>\n",
       "      <td>[accordion-n-01, harp-n-01, cello-n-01, flute-...</td>\n",
       "      <td>True</td>\n",
       "      <td>True</td>\n",
       "      <td>True</td>\n",
       "    </tr>\n",
       "    <tr>\n",
       "      <th>4</th>\n",
       "      <td>accordion-n-01</td>\n",
       "      <td>accordion_06s</td>\n",
       "      <td>[harp-n-01, trombone-n-01, clarinet-n-01, type...</td>\n",
       "      <td>False</td>\n",
       "      <td>False</td>\n",
       "      <td>False</td>\n",
       "    </tr>\n",
       "    <tr>\n",
       "      <th>5</th>\n",
       "      <td>accordion-n-01</td>\n",
       "      <td>accordion_13s</td>\n",
       "      <td>[accordion-n-01, harp-n-01, bagpipe-n-01, banj...</td>\n",
       "      <td>True</td>\n",
       "      <td>True</td>\n",
       "      <td>True</td>\n",
       "    </tr>\n",
       "    <tr>\n",
       "      <th>6</th>\n",
       "      <td>accordion-n-01</td>\n",
       "      <td>accordion_05s</td>\n",
       "      <td>[accordion-n-01, harp-n-01, bagpipe-n-01, harm...</td>\n",
       "      <td>True</td>\n",
       "      <td>True</td>\n",
       "      <td>True</td>\n",
       "    </tr>\n",
       "    <tr>\n",
       "      <th>7</th>\n",
       "      <td>accordion-n-01</td>\n",
       "      <td>accordion_09s</td>\n",
       "      <td>[belt-n-02, accordion-n-01, bag-n-01, buckle-n...</td>\n",
       "      <td>False</td>\n",
       "      <td>True</td>\n",
       "      <td>True</td>\n",
       "    </tr>\n",
       "    <tr>\n",
       "      <th>8</th>\n",
       "      <td>accordion-n-01</td>\n",
       "      <td>accordion_08s</td>\n",
       "      <td>[accordion-n-01, bagpipe-n-01, harmonica-n-01,...</td>\n",
       "      <td>True</td>\n",
       "      <td>True</td>\n",
       "      <td>True</td>\n",
       "    </tr>\n",
       "    <tr>\n",
       "      <th>9</th>\n",
       "      <td>accordion-n-01</td>\n",
       "      <td>accordion_04s</td>\n",
       "      <td>[belt-n-02, buckle-n-01, bagpipe-n-01, banjo-n...</td>\n",
       "      <td>False</td>\n",
       "      <td>False</td>\n",
       "      <td>False</td>\n",
       "    </tr>\n",
       "    <tr>\n",
       "      <th>10</th>\n",
       "      <td>accordion-n-01</td>\n",
       "      <td>accordion_12s</td>\n",
       "      <td>[pliers-n-01, bagpipe-n-01, grater-n-01, typew...</td>\n",
       "      <td>False</td>\n",
       "      <td>False</td>\n",
       "      <td>True</td>\n",
       "    </tr>\n",
       "    <tr>\n",
       "      <th>11</th>\n",
       "      <td>accordion-n-01</td>\n",
       "      <td>accordion_03s</td>\n",
       "      <td>[buckle-n-01, harp-n-01, banjo-n-01, clarinet-...</td>\n",
       "      <td>False</td>\n",
       "      <td>False</td>\n",
       "      <td>True</td>\n",
       "    </tr>\n",
       "    <tr>\n",
       "      <th>12</th>\n",
       "      <td>accordion-n-01</td>\n",
       "      <td>accordion_02s</td>\n",
       "      <td>[accordion-n-01, cage-n-01, hatchet-n-02, cart...</td>\n",
       "      <td>True</td>\n",
       "      <td>True</td>\n",
       "      <td>True</td>\n",
       "    </tr>\n",
       "    <tr>\n",
       "      <th>13</th>\n",
       "      <td>accordion-n-01</td>\n",
       "      <td>accordion_14s</td>\n",
       "      <td>[harp-n-01, banjo-n-01, accordion-n-01, clarin...</td>\n",
       "      <td>False</td>\n",
       "      <td>True</td>\n",
       "      <td>True</td>\n",
       "    </tr>\n",
       "  </tbody>\n",
       "</table>\n",
       "</div>"
      ],
      "text/plain": [
       "                  synset          image                                              preds   top1   top5  top10\n",
       "clip  0   accordion-n-01  accordion_01b  [accordion-n-01, harp-n-01, harmonica-n-01, ke...   True   True   True\n",
       "      1   accordion-n-01  accordion_07s  [accordion-n-01, harp-n-01, harmonica-n-01, gr...   True   True   True\n",
       "      2   accordion-n-01  accordion_11s  [accordion-n-01, harmonica-n-01, bag-n-01, buc...   True   True   True\n",
       "      3   accordion-n-01  accordion_10s  [accordion-n-01, harmonica-n-01, harp-n-01, ba...   True   True   True\n",
       "      4   accordion-n-01  accordion_06s  [accordion-n-01, piano-n-01, keyboard-n-01, ha...   True   True   True\n",
       "      5   accordion-n-01  accordion_13s  [accordion-n-01, harmonica-n-01, piano-n-01, k...   True   True   True\n",
       "      6   accordion-n-01  accordion_05s  [accordion-n-01, harp-n-01, clarinet-n-01, bag...   True   True   True\n",
       "      7   accordion-n-01  accordion_09s  [accordion-n-01, bag-n-01, harmonica-n-01, pia...   True   True   True\n",
       "      8   accordion-n-01  accordion_08s  [accordion-n-01, piano-n-01, harmonica-n-01, c...   True   True   True\n",
       "      9   accordion-n-01  accordion_04s  [accordion-n-01, banjo-n-01, harp-n-01, rug-n-...   True   True   True\n",
       "      10  accordion-n-01  accordion_12s  [accordion-n-01, harp-n-01, piano-n-01, harmon...   True   True   True\n",
       "      11  accordion-n-01  accordion_03s  [accordion-n-01, piano-n-01, rug-n-01, harp-n-...   True   True   True\n",
       "      12  accordion-n-01  accordion_02s  [accordion-n-01, typewriter-n-01, piano-n-01, ...   True   True   True\n",
       "      13  accordion-n-01  accordion_14s  [accordion-n-01, bagpipe-n-01, harp-n-01, banj...   True   True   True\n",
       "albef 0   accordion-n-01  accordion_01b  [accordion-n-01, rock-n-01, cranberry-n-02, ch...   True   True   True\n",
       "      1   accordion-n-01  accordion_07s  [accordion-n-01, rock-n-01, bomb-n-01, jar-n-0...   True   True   True\n",
       "      2   accordion-n-01  accordion_11s  [accordion-n-01, skunk-n-04, fan-n-01, rock-n-...   True   True   True\n",
       "      3   accordion-n-01  accordion_10s  [accordion-n-01, rock-n-01, book-n-01, owl-n-0...   True   True   True\n",
       "      4   accordion-n-01  accordion_06s  [accordion-n-01, keyboard-n-01, rock-n-01, ban...   True   True   True\n",
       "      5   accordion-n-01  accordion_13s  [accordion-n-01, keyboard-n-01, cushion-n-03, ...   True   True   True\n",
       "      6   accordion-n-01  accordion_05s  [accordion-n-01, rock-n-01, pearl-n-01, jar-n-...   True   True   True\n",
       "      7   accordion-n-01  accordion_09s  [accordion-n-01, owl-n-01, harmonica-n-01, dan...   True   True   True\n",
       "      8   accordion-n-01  accordion_08s  [accordion-n-01, fan-n-01, plug-n-05, whistle-...   True   True   True\n",
       "      9   accordion-n-01  accordion_04s  [accordion-n-01, box-n-01, rug-n-01, cushion-n...   True   True   True\n",
       "      10  accordion-n-01  accordion_12s  [accordion-n-01, cranberry-n-02, rock-n-01, fa...   True   True   True\n",
       "      11  accordion-n-01  accordion_03s  [accordion-n-01, beehive-n-02, rug-n-01, banne...   True   True   True\n",
       "      12  accordion-n-01  accordion_02s  [accordion-n-01, fan-n-01, cranberry-n-02, ora...   True   True   True\n",
       "      13  accordion-n-01  accordion_14s  [accordion-n-01, rock-n-01, belt-n-02, pearl-n...   True   True   True\n",
       "vilt  0   accordion-n-01  accordion_01b  [harp-n-01, accordion-n-01, clarinet-n-01, pli...  False   True   True\n",
       "      1   accordion-n-01  accordion_07s  [accordion-n-01, bagpipe-n-01, harp-n-01, cros...   True   True   True\n",
       "      2   accordion-n-01  accordion_11s  [accordion-n-01, bag-n-01, drum-n-01, buckle-n...   True   True   True\n",
       "      3   accordion-n-01  accordion_10s  [accordion-n-01, harp-n-01, cello-n-01, flute-...   True   True   True\n",
       "      4   accordion-n-01  accordion_06s  [harp-n-01, trombone-n-01, clarinet-n-01, type...  False  False  False\n",
       "      5   accordion-n-01  accordion_13s  [accordion-n-01, harp-n-01, bagpipe-n-01, banj...   True   True   True\n",
       "      6   accordion-n-01  accordion_05s  [accordion-n-01, harp-n-01, bagpipe-n-01, harm...   True   True   True\n",
       "      7   accordion-n-01  accordion_09s  [belt-n-02, accordion-n-01, bag-n-01, buckle-n...  False   True   True\n",
       "      8   accordion-n-01  accordion_08s  [accordion-n-01, bagpipe-n-01, harmonica-n-01,...   True   True   True\n",
       "      9   accordion-n-01  accordion_04s  [belt-n-02, buckle-n-01, bagpipe-n-01, banjo-n...  False  False  False\n",
       "      10  accordion-n-01  accordion_12s  [pliers-n-01, bagpipe-n-01, grater-n-01, typew...  False  False   True\n",
       "      11  accordion-n-01  accordion_03s  [buckle-n-01, harp-n-01, banjo-n-01, clarinet-...  False  False   True\n",
       "      12  accordion-n-01  accordion_02s  [accordion-n-01, cage-n-01, hatchet-n-02, cart...   True   True   True\n",
       "      13  accordion-n-01  accordion_14s  [harp-n-01, banjo-n-01, accordion-n-01, clarin...  False   True   True"
      ]
     },
     "execution_count": 72,
     "metadata": {},
     "output_type": "execute_result"
    }
   ],
   "source": [
    "c_preds = pd.concat(c_preds)\n",
    "\n",
    "s = synsets[0]\n",
    "c_preds.loc[c_preds['synset']==s]"
   ]
  },
  {
   "cell_type": "code",
   "execution_count": 17,
   "id": "8a80850c-35b0-4bfb-910c-958083e0e0df",
   "metadata": {
    "tags": []
   },
   "outputs": [
    {
     "data": {
      "text/html": [
       "<div>\n",
       "<style scoped>\n",
       "    .dataframe tbody tr th:only-of-type {\n",
       "        vertical-align: middle;\n",
       "    }\n",
       "\n",
       "    .dataframe tbody tr th {\n",
       "        vertical-align: top;\n",
       "    }\n",
       "\n",
       "    .dataframe thead th {\n",
       "        text-align: right;\n",
       "    }\n",
       "</style>\n",
       "<table border=\"1\" class=\"dataframe\">\n",
       "  <thead>\n",
       "    <tr style=\"text-align: right;\">\n",
       "      <th></th>\n",
       "      <th>model</th>\n",
       "      <th>image</th>\n",
       "      <th>preds</th>\n",
       "    </tr>\n",
       "  </thead>\n",
       "  <tbody>\n",
       "    <tr>\n",
       "      <th>0</th>\n",
       "      <td>clip</td>\n",
       "      <td>accordion_01b</td>\n",
       "      <td>[accordion-n-01, harp-n-01, harmonica-n-01, ke...</td>\n",
       "    </tr>\n",
       "    <tr>\n",
       "      <th>1</th>\n",
       "      <td>clip</td>\n",
       "      <td>accordion_07s</td>\n",
       "      <td>[accordion-n-01, harp-n-01, harmonica-n-01, gr...</td>\n",
       "    </tr>\n",
       "    <tr>\n",
       "      <th>2</th>\n",
       "      <td>clip</td>\n",
       "      <td>accordion_11s</td>\n",
       "      <td>[accordion-n-01, harmonica-n-01, bag-n-01, buc...</td>\n",
       "    </tr>\n",
       "    <tr>\n",
       "      <th>3</th>\n",
       "      <td>clip</td>\n",
       "      <td>accordion_10s</td>\n",
       "      <td>[accordion-n-01, harmonica-n-01, harp-n-01, ba...</td>\n",
       "    </tr>\n",
       "    <tr>\n",
       "      <th>4</th>\n",
       "      <td>clip</td>\n",
       "      <td>accordion_06s</td>\n",
       "      <td>[accordion-n-01, piano-n-01, keyboard-n-01, ha...</td>\n",
       "    </tr>\n",
       "    <tr>\n",
       "      <th>5</th>\n",
       "      <td>clip</td>\n",
       "      <td>accordion_13s</td>\n",
       "      <td>[accordion-n-01, harmonica-n-01, piano-n-01, k...</td>\n",
       "    </tr>\n",
       "    <tr>\n",
       "      <th>6</th>\n",
       "      <td>clip</td>\n",
       "      <td>accordion_05s</td>\n",
       "      <td>[accordion-n-01, harp-n-01, clarinet-n-01, bag...</td>\n",
       "    </tr>\n",
       "    <tr>\n",
       "      <th>7</th>\n",
       "      <td>clip</td>\n",
       "      <td>accordion_09s</td>\n",
       "      <td>[accordion-n-01, bag-n-01, harmonica-n-01, pia...</td>\n",
       "    </tr>\n",
       "    <tr>\n",
       "      <th>8</th>\n",
       "      <td>clip</td>\n",
       "      <td>accordion_08s</td>\n",
       "      <td>[accordion-n-01, piano-n-01, harmonica-n-01, c...</td>\n",
       "    </tr>\n",
       "    <tr>\n",
       "      <th>9</th>\n",
       "      <td>clip</td>\n",
       "      <td>accordion_04s</td>\n",
       "      <td>[accordion-n-01, banjo-n-01, harp-n-01, rug-n-...</td>\n",
       "    </tr>\n",
       "    <tr>\n",
       "      <th>10</th>\n",
       "      <td>clip</td>\n",
       "      <td>accordion_12s</td>\n",
       "      <td>[accordion-n-01, harp-n-01, piano-n-01, harmon...</td>\n",
       "    </tr>\n",
       "    <tr>\n",
       "      <th>11</th>\n",
       "      <td>clip</td>\n",
       "      <td>accordion_03s</td>\n",
       "      <td>[accordion-n-01, piano-n-01, rug-n-01, harp-n-...</td>\n",
       "    </tr>\n",
       "    <tr>\n",
       "      <th>12</th>\n",
       "      <td>clip</td>\n",
       "      <td>accordion_02s</td>\n",
       "      <td>[accordion-n-01, typewriter-n-01, piano-n-01, ...</td>\n",
       "    </tr>\n",
       "    <tr>\n",
       "      <th>13</th>\n",
       "      <td>clip</td>\n",
       "      <td>accordion_14s</td>\n",
       "      <td>[accordion-n-01, bagpipe-n-01, harp-n-01, banj...</td>\n",
       "    </tr>\n",
       "    <tr>\n",
       "      <th>4928</th>\n",
       "      <td>albef</td>\n",
       "      <td>accordion_01b</td>\n",
       "      <td>[accordion-n-01, rock-n-01, cranberry-n-02, ch...</td>\n",
       "    </tr>\n",
       "    <tr>\n",
       "      <th>4929</th>\n",
       "      <td>albef</td>\n",
       "      <td>accordion_07s</td>\n",
       "      <td>[accordion-n-01, rock-n-01, bomb-n-01, jar-n-0...</td>\n",
       "    </tr>\n",
       "    <tr>\n",
       "      <th>4930</th>\n",
       "      <td>albef</td>\n",
       "      <td>accordion_11s</td>\n",
       "      <td>[accordion-n-01, skunk-n-04, fan-n-01, rock-n-...</td>\n",
       "    </tr>\n",
       "    <tr>\n",
       "      <th>4931</th>\n",
       "      <td>albef</td>\n",
       "      <td>accordion_10s</td>\n",
       "      <td>[accordion-n-01, rock-n-01, book-n-01, owl-n-0...</td>\n",
       "    </tr>\n",
       "    <tr>\n",
       "      <th>4932</th>\n",
       "      <td>albef</td>\n",
       "      <td>accordion_06s</td>\n",
       "      <td>[accordion-n-01, keyboard-n-01, rock-n-01, ban...</td>\n",
       "    </tr>\n",
       "    <tr>\n",
       "      <th>4933</th>\n",
       "      <td>albef</td>\n",
       "      <td>accordion_13s</td>\n",
       "      <td>[accordion-n-01, keyboard-n-01, cushion-n-03, ...</td>\n",
       "    </tr>\n",
       "    <tr>\n",
       "      <th>4934</th>\n",
       "      <td>albef</td>\n",
       "      <td>accordion_05s</td>\n",
       "      <td>[accordion-n-01, rock-n-01, pearl-n-01, jar-n-...</td>\n",
       "    </tr>\n",
       "    <tr>\n",
       "      <th>4935</th>\n",
       "      <td>albef</td>\n",
       "      <td>accordion_09s</td>\n",
       "      <td>[accordion-n-01, owl-n-01, harmonica-n-01, dan...</td>\n",
       "    </tr>\n",
       "    <tr>\n",
       "      <th>4936</th>\n",
       "      <td>albef</td>\n",
       "      <td>accordion_08s</td>\n",
       "      <td>[accordion-n-01, fan-n-01, plug-n-05, whistle-...</td>\n",
       "    </tr>\n",
       "    <tr>\n",
       "      <th>4937</th>\n",
       "      <td>albef</td>\n",
       "      <td>accordion_04s</td>\n",
       "      <td>[accordion-n-01, box-n-01, rug-n-01, cushion-n...</td>\n",
       "    </tr>\n",
       "    <tr>\n",
       "      <th>4938</th>\n",
       "      <td>albef</td>\n",
       "      <td>accordion_12s</td>\n",
       "      <td>[accordion-n-01, cranberry-n-02, rock-n-01, fa...</td>\n",
       "    </tr>\n",
       "    <tr>\n",
       "      <th>4939</th>\n",
       "      <td>albef</td>\n",
       "      <td>accordion_03s</td>\n",
       "      <td>[accordion-n-01, beehive-n-02, rug-n-01, banne...</td>\n",
       "    </tr>\n",
       "    <tr>\n",
       "      <th>4940</th>\n",
       "      <td>albef</td>\n",
       "      <td>accordion_02s</td>\n",
       "      <td>[accordion-n-01, fan-n-01, cranberry-n-02, ora...</td>\n",
       "    </tr>\n",
       "    <tr>\n",
       "      <th>4941</th>\n",
       "      <td>albef</td>\n",
       "      <td>accordion_14s</td>\n",
       "      <td>[accordion-n-01, rock-n-01, belt-n-02, pearl-n...</td>\n",
       "    </tr>\n",
       "    <tr>\n",
       "      <th>9856</th>\n",
       "      <td>vilt</td>\n",
       "      <td>accordion_01b</td>\n",
       "      <td>[harp-n-01, accordion-n-01, clarinet-n-01, pli...</td>\n",
       "    </tr>\n",
       "    <tr>\n",
       "      <th>9857</th>\n",
       "      <td>vilt</td>\n",
       "      <td>accordion_07s</td>\n",
       "      <td>[accordion-n-01, bagpipe-n-01, harp-n-01, cros...</td>\n",
       "    </tr>\n",
       "    <tr>\n",
       "      <th>9858</th>\n",
       "      <td>vilt</td>\n",
       "      <td>accordion_11s</td>\n",
       "      <td>[accordion-n-01, bag-n-01, drum-n-01, buckle-n...</td>\n",
       "    </tr>\n",
       "    <tr>\n",
       "      <th>9859</th>\n",
       "      <td>vilt</td>\n",
       "      <td>accordion_10s</td>\n",
       "      <td>[accordion-n-01, harp-n-01, cello-n-01, flute-...</td>\n",
       "    </tr>\n",
       "    <tr>\n",
       "      <th>9860</th>\n",
       "      <td>vilt</td>\n",
       "      <td>accordion_06s</td>\n",
       "      <td>[harp-n-01, trombone-n-01, clarinet-n-01, type...</td>\n",
       "    </tr>\n",
       "    <tr>\n",
       "      <th>9861</th>\n",
       "      <td>vilt</td>\n",
       "      <td>accordion_13s</td>\n",
       "      <td>[accordion-n-01, harp-n-01, bagpipe-n-01, banj...</td>\n",
       "    </tr>\n",
       "    <tr>\n",
       "      <th>9862</th>\n",
       "      <td>vilt</td>\n",
       "      <td>accordion_05s</td>\n",
       "      <td>[accordion-n-01, harp-n-01, bagpipe-n-01, harm...</td>\n",
       "    </tr>\n",
       "    <tr>\n",
       "      <th>9863</th>\n",
       "      <td>vilt</td>\n",
       "      <td>accordion_09s</td>\n",
       "      <td>[belt-n-02, accordion-n-01, bag-n-01, buckle-n...</td>\n",
       "    </tr>\n",
       "    <tr>\n",
       "      <th>9864</th>\n",
       "      <td>vilt</td>\n",
       "      <td>accordion_08s</td>\n",
       "      <td>[accordion-n-01, bagpipe-n-01, harmonica-n-01,...</td>\n",
       "    </tr>\n",
       "    <tr>\n",
       "      <th>9865</th>\n",
       "      <td>vilt</td>\n",
       "      <td>accordion_04s</td>\n",
       "      <td>[belt-n-02, buckle-n-01, bagpipe-n-01, banjo-n...</td>\n",
       "    </tr>\n",
       "    <tr>\n",
       "      <th>9866</th>\n",
       "      <td>vilt</td>\n",
       "      <td>accordion_12s</td>\n",
       "      <td>[pliers-n-01, bagpipe-n-01, grater-n-01, typew...</td>\n",
       "    </tr>\n",
       "    <tr>\n",
       "      <th>9867</th>\n",
       "      <td>vilt</td>\n",
       "      <td>accordion_03s</td>\n",
       "      <td>[buckle-n-01, harp-n-01, banjo-n-01, clarinet-...</td>\n",
       "    </tr>\n",
       "    <tr>\n",
       "      <th>9868</th>\n",
       "      <td>vilt</td>\n",
       "      <td>accordion_02s</td>\n",
       "      <td>[accordion-n-01, cage-n-01, hatchet-n-02, cart...</td>\n",
       "    </tr>\n",
       "    <tr>\n",
       "      <th>9869</th>\n",
       "      <td>vilt</td>\n",
       "      <td>accordion_14s</td>\n",
       "      <td>[harp-n-01, banjo-n-01, accordion-n-01, clarin...</td>\n",
       "    </tr>\n",
       "  </tbody>\n",
       "</table>\n",
       "</div>"
      ],
      "text/plain": [
       "      model          image                                              preds\n",
       "0      clip  accordion_01b  [accordion-n-01, harp-n-01, harmonica-n-01, ke...\n",
       "1      clip  accordion_07s  [accordion-n-01, harp-n-01, harmonica-n-01, gr...\n",
       "2      clip  accordion_11s  [accordion-n-01, harmonica-n-01, bag-n-01, buc...\n",
       "3      clip  accordion_10s  [accordion-n-01, harmonica-n-01, harp-n-01, ba...\n",
       "4      clip  accordion_06s  [accordion-n-01, piano-n-01, keyboard-n-01, ha...\n",
       "5      clip  accordion_13s  [accordion-n-01, harmonica-n-01, piano-n-01, k...\n",
       "6      clip  accordion_05s  [accordion-n-01, harp-n-01, clarinet-n-01, bag...\n",
       "7      clip  accordion_09s  [accordion-n-01, bag-n-01, harmonica-n-01, pia...\n",
       "8      clip  accordion_08s  [accordion-n-01, piano-n-01, harmonica-n-01, c...\n",
       "9      clip  accordion_04s  [accordion-n-01, banjo-n-01, harp-n-01, rug-n-...\n",
       "10     clip  accordion_12s  [accordion-n-01, harp-n-01, piano-n-01, harmon...\n",
       "11     clip  accordion_03s  [accordion-n-01, piano-n-01, rug-n-01, harp-n-...\n",
       "12     clip  accordion_02s  [accordion-n-01, typewriter-n-01, piano-n-01, ...\n",
       "13     clip  accordion_14s  [accordion-n-01, bagpipe-n-01, harp-n-01, banj...\n",
       "4928  albef  accordion_01b  [accordion-n-01, rock-n-01, cranberry-n-02, ch...\n",
       "4929  albef  accordion_07s  [accordion-n-01, rock-n-01, bomb-n-01, jar-n-0...\n",
       "4930  albef  accordion_11s  [accordion-n-01, skunk-n-04, fan-n-01, rock-n-...\n",
       "4931  albef  accordion_10s  [accordion-n-01, rock-n-01, book-n-01, owl-n-0...\n",
       "4932  albef  accordion_06s  [accordion-n-01, keyboard-n-01, rock-n-01, ban...\n",
       "4933  albef  accordion_13s  [accordion-n-01, keyboard-n-01, cushion-n-03, ...\n",
       "4934  albef  accordion_05s  [accordion-n-01, rock-n-01, pearl-n-01, jar-n-...\n",
       "4935  albef  accordion_09s  [accordion-n-01, owl-n-01, harmonica-n-01, dan...\n",
       "4936  albef  accordion_08s  [accordion-n-01, fan-n-01, plug-n-05, whistle-...\n",
       "4937  albef  accordion_04s  [accordion-n-01, box-n-01, rug-n-01, cushion-n...\n",
       "4938  albef  accordion_12s  [accordion-n-01, cranberry-n-02, rock-n-01, fa...\n",
       "4939  albef  accordion_03s  [accordion-n-01, beehive-n-02, rug-n-01, banne...\n",
       "4940  albef  accordion_02s  [accordion-n-01, fan-n-01, cranberry-n-02, ora...\n",
       "4941  albef  accordion_14s  [accordion-n-01, rock-n-01, belt-n-02, pearl-n...\n",
       "9856   vilt  accordion_01b  [harp-n-01, accordion-n-01, clarinet-n-01, pli...\n",
       "9857   vilt  accordion_07s  [accordion-n-01, bagpipe-n-01, harp-n-01, cros...\n",
       "9858   vilt  accordion_11s  [accordion-n-01, bag-n-01, drum-n-01, buckle-n...\n",
       "9859   vilt  accordion_10s  [accordion-n-01, harp-n-01, cello-n-01, flute-...\n",
       "9860   vilt  accordion_06s  [harp-n-01, trombone-n-01, clarinet-n-01, type...\n",
       "9861   vilt  accordion_13s  [accordion-n-01, harp-n-01, bagpipe-n-01, banj...\n",
       "9862   vilt  accordion_05s  [accordion-n-01, harp-n-01, bagpipe-n-01, harm...\n",
       "9863   vilt  accordion_09s  [belt-n-02, accordion-n-01, bag-n-01, buckle-n...\n",
       "9864   vilt  accordion_08s  [accordion-n-01, bagpipe-n-01, harmonica-n-01,...\n",
       "9865   vilt  accordion_04s  [belt-n-02, buckle-n-01, bagpipe-n-01, banjo-n...\n",
       "9866   vilt  accordion_12s  [pliers-n-01, bagpipe-n-01, grater-n-01, typew...\n",
       "9867   vilt  accordion_03s  [buckle-n-01, harp-n-01, banjo-n-01, clarinet-...\n",
       "9868   vilt  accordion_02s  [accordion-n-01, cage-n-01, hatchet-n-02, cart...\n",
       "9869   vilt  accordion_14s  [harp-n-01, banjo-n-01, accordion-n-01, clarin..."
      ]
     },
     "execution_count": 17,
     "metadata": {},
     "output_type": "execute_result"
    }
   ],
   "source": [
    "pd.set_option('display.width', 1500)\n",
    "\n",
    "all_c_preds = (\n",
    "    pd.concat(c_preds)\n",
    "    .reset_index(level=1, drop=True)\n",
    "    .reset_index()\n",
    "    .rename(columns={'index':'model'})\n",
    ")\n",
    "\n",
    "all_c_preds.loc[all_c_preds['synset']==s_ex][['model', 'image', 'preds']]"
   ]
  },
  {
   "cell_type": "markdown",
   "id": "4a76e6a3",
   "metadata": {
    "tags": []
   },
   "source": [
    "# Feature match"
   ]
  },
  {
   "cell_type": "markdown",
   "id": "85b7c7d9-bf7e-46f6-8541-2c7a443c87a1",
   "metadata": {},
   "source": [
    "__Q:__ Do V+L accurately detect the features depicted in the image?"
   ]
  },
  {
   "cell_type": "code",
   "execution_count": 63,
   "id": "94c42fb8",
   "metadata": {
    "tags": []
   },
   "outputs": [
    {
     "name": "stdout",
     "output_type": "stream",
     "text": [
      "clip\n",
      "Top1 accuracy: 0.21128098690364827\n",
      "Top2 accuracy: 0.29743042563143124\n",
      "\n",
      "\n",
      "albef\n",
      "Top1 accuracy: 0.15616230121608982\n",
      "Top2 accuracy: 0.22645287652011226\n",
      "\n",
      "\n",
      "vilt\n",
      "Top1 accuracy: 0.12624239943872778\n",
      "Top2 accuracy: 0.19282039289055192\n",
      "\n",
      "\n"
     ]
    }
   ],
   "source": [
    "f_preds = {}\n",
    "for m in models:\n",
    "    m_preds = []\n",
    "    f_match_path = res_path / m / 'feature_match'\n",
    "    for s, s_imgs in s_ids.items():\n",
    "        s_info = fsk.loc[fsk['synsets'] == s]\n",
    "        n_features = len(s_info)\n",
    "        top_k_i = [n_features, (n_features * 2)]\n",
    "        for img in s_imgs:\n",
    "            i_pred = torch.load(f_match_path / f'{img}.pt', map_location=torch.device('cpu')).to(torch.float64)\n",
    "            top_indices = i_pred.topk(n_features * 2)[1]\n",
    "            for _, f in s_info.iterrows():\n",
    "                val = [s, img, f['features'], f['features_type']]\n",
    "                correct_val = int(f['features_idx'])\n",
    "                val.append([ft_idx[int(i)] for i in top_indices])\n",
    "                for t in top_k_i:\n",
    "                    val.append(correct_val in top_indices[:t])\n",
    "                val.append(i_pred[correct_val].detach().numpy())\n",
    "                m_preds.append(val)\n",
    "    f_preds[m] = pd.DataFrame(\n",
    "        m_preds, \n",
    "        columns=['synset', 'image', 'feature', 'feature_type', 'preds', 'top1', 'top2', 'pred_val']\n",
    "    )\n",
    "    print(m)\n",
    "    print(f\"Top1 accuracy: {f_preds[m]['top1'].mean()}\")\n",
    "    print(f\"Top2 accuracy: {f_preds[m]['top2'].mean()}\")\n",
    "    print(\"\\n\")"
   ]
  },
  {
   "cell_type": "markdown",
   "id": "46d396a8",
   "metadata": {},
   "source": [
    "__Q:__ Is this accuracy dependent on feature type?"
   ]
  },
  {
   "cell_type": "code",
   "execution_count": 9,
   "id": "367dd0ec",
   "metadata": {
    "tags": []
   },
   "outputs": [
    {
     "data": {
      "image/png": "[encoded data removed]",
      "text/plain": [
       "<Figure size 1000x500 with 1 Axes>"
      ]
     },
     "metadata": {},
     "output_type": "display_data"
    }
   ],
   "source": [
    "mean_by_f = []\n",
    "for m in models:\n",
    "    m_data = f_preds[m].groupby('feature_type').mean().reset_index()\n",
    "    m_data['model'] = m\n",
    "    mean_by_f.append(m_data)\n",
    "mean_by_f = pd.concat(mean_by_f)\n",
    "mean_by_f = mean_by_f.drop('top2', axis=1)\n",
    "\n",
    "fig, ax = plt.subplots(figsize=(10,5))\n",
    "sns.barplot(\n",
    "    x='feature_type', y='top1', hue='model', \n",
    "    data=mean_by_f, hue_order=['clip', 'albef', 'vilt']\n",
    ")\n",
    "ax.set(ylim=(0, 0.5))\n",
    "ax.set(xlabel=None, ylabel='Accuracy')\n",
    "ax.legend(loc='upper center', bbox_to_anchor=(0.5, 1.05),\n",
    "          ncol=6, fancybox=True, shadow=True)\n",
    "plt.tight_layout()\n",
    "plt.show()"
   ]
  },
  {
   "cell_type": "code",
   "execution_count": 10,
   "id": "d3cc5166",
   "metadata": {
    "tags": []
   },
   "outputs": [
    {
     "ename": "FileNotFoundError",
     "evalue": "[Errno 2] No such file or directory: '/Users/m_vilas/projects/fsk-multimodal/results/pred_inspection/clip_feature_preds.csv'",
     "output_type": "error",
     "traceback": [
      "\u001b[0;31m---------------------------------------------------------------------------\u001b[0m",
      "\u001b[0;31mFileNotFoundError\u001b[0m                         Traceback (most recent call last)",
      "Input \u001b[0;32mIn [10]\u001b[0m, in \u001b[0;36m<cell line: 1>\u001b[0;34m()\u001b[0m\n\u001b[1;32m     10\u001b[0m         m_preds\u001b[38;5;241m.\u001b[39mappend(\n\u001b[1;32m     11\u001b[0m             [s, img, [ft_idx[\u001b[38;5;28mint\u001b[39m(i)] \u001b[38;5;28;01mfor\u001b[39;00m i \u001b[38;5;129;01min\u001b[39;00m top_indices], s_info[\u001b[38;5;124m'\u001b[39m\u001b[38;5;124mfeatures\u001b[39m\u001b[38;5;124m'\u001b[39m]\u001b[38;5;241m.\u001b[39mtolist()]\n\u001b[1;32m     12\u001b[0m         )\n\u001b[1;32m     13\u001b[0m m_preds \u001b[38;5;241m=\u001b[39m pd\u001b[38;5;241m.\u001b[39mDataFrame(m_preds, columns\u001b[38;5;241m=\u001b[39m[\u001b[38;5;124m'\u001b[39m\u001b[38;5;124msynset\u001b[39m\u001b[38;5;124m'\u001b[39m, \u001b[38;5;124m'\u001b[39m\u001b[38;5;124mimage\u001b[39m\u001b[38;5;124m'\u001b[39m, \u001b[38;5;124m'\u001b[39m\u001b[38;5;124mfeatures\u001b[39m\u001b[38;5;124m'\u001b[39m, \u001b[38;5;124m'\u001b[39m\u001b[38;5;124mpreds\u001b[39m\u001b[38;5;124m'\u001b[39m])\n\u001b[0;32m---> 14\u001b[0m \u001b[43mm_preds\u001b[49m\u001b[38;5;241;43m.\u001b[39;49m\u001b[43mto_csv\u001b[49m\u001b[43m(\u001b[49m\u001b[43mres_path\u001b[49m\u001b[43m \u001b[49m\u001b[38;5;241;43m/\u001b[39;49m\u001b[43m \u001b[49m\u001b[38;5;124;43m'\u001b[39;49m\u001b[38;5;124;43mpred_inspection\u001b[39;49m\u001b[38;5;124;43m'\u001b[39;49m\u001b[43m \u001b[49m\u001b[38;5;241;43m/\u001b[39;49m\u001b[43m \u001b[49m\u001b[38;5;124;43mf\u001b[39;49m\u001b[38;5;124;43m'\u001b[39;49m\u001b[38;5;132;43;01m{\u001b[39;49;00m\u001b[43mm\u001b[49m\u001b[38;5;132;43;01m}\u001b[39;49;00m\u001b[38;5;124;43m_feature_preds.csv\u001b[39;49m\u001b[38;5;124;43m'\u001b[39;49m\u001b[43m)\u001b[49m\n",
      "File \u001b[0;32m~/opt/miniconda3/envs/fsk/lib/python3.9/site-packages/pandas/core/generic.py:3387\u001b[0m, in \u001b[0;36mNDFrame.to_csv\u001b[0;34m(self, path_or_buf, sep, na_rep, float_format, columns, header, index, index_label, mode, encoding, compression, quoting, quotechar, line_terminator, chunksize, date_format, doublequote, escapechar, decimal, errors, storage_options)\u001b[0m\n\u001b[1;32m   3376\u001b[0m df \u001b[38;5;241m=\u001b[39m \u001b[38;5;28mself\u001b[39m \u001b[38;5;28;01mif\u001b[39;00m \u001b[38;5;28misinstance\u001b[39m(\u001b[38;5;28mself\u001b[39m, ABCDataFrame) \u001b[38;5;28;01melse\u001b[39;00m \u001b[38;5;28mself\u001b[39m\u001b[38;5;241m.\u001b[39mto_frame()\n\u001b[1;32m   3378\u001b[0m formatter \u001b[38;5;241m=\u001b[39m DataFrameFormatter(\n\u001b[1;32m   3379\u001b[0m     frame\u001b[38;5;241m=\u001b[39mdf,\n\u001b[1;32m   3380\u001b[0m     header\u001b[38;5;241m=\u001b[39mheader,\n\u001b[0;32m   (...)\u001b[0m\n\u001b[1;32m   3384\u001b[0m     decimal\u001b[38;5;241m=\u001b[39mdecimal,\n\u001b[1;32m   3385\u001b[0m )\n\u001b[0;32m-> 3387\u001b[0m \u001b[38;5;28;01mreturn\u001b[39;00m \u001b[43mDataFrameRenderer\u001b[49m\u001b[43m(\u001b[49m\u001b[43mformatter\u001b[49m\u001b[43m)\u001b[49m\u001b[38;5;241;43m.\u001b[39;49m\u001b[43mto_csv\u001b[49m\u001b[43m(\u001b[49m\n\u001b[1;32m   3388\u001b[0m \u001b[43m    \u001b[49m\u001b[43mpath_or_buf\u001b[49m\u001b[43m,\u001b[49m\n\u001b[1;32m   3389\u001b[0m \u001b[43m    \u001b[49m\u001b[43mline_terminator\u001b[49m\u001b[38;5;241;43m=\u001b[39;49m\u001b[43mline_terminator\u001b[49m\u001b[43m,\u001b[49m\n\u001b[1;32m   3390\u001b[0m \u001b[43m    \u001b[49m\u001b[43msep\u001b[49m\u001b[38;5;241;43m=\u001b[39;49m\u001b[43msep\u001b[49m\u001b[43m,\u001b[49m\n\u001b[1;32m   3391\u001b[0m \u001b[43m    \u001b[49m\u001b[43mencoding\u001b[49m\u001b[38;5;241;43m=\u001b[39;49m\u001b[43mencoding\u001b[49m\u001b[43m,\u001b[49m\n\u001b[1;32m   3392\u001b[0m \u001b[43m    \u001b[49m\u001b[43merrors\u001b[49m\u001b[38;5;241;43m=\u001b[39;49m\u001b[43merrors\u001b[49m\u001b[43m,\u001b[49m\n\u001b[1;32m   3393\u001b[0m \u001b[43m    \u001b[49m\u001b[43mcompression\u001b[49m\u001b[38;5;241;43m=\u001b[39;49m\u001b[43mcompression\u001b[49m\u001b[43m,\u001b[49m\n\u001b[1;32m   3394\u001b[0m \u001b[43m    \u001b[49m\u001b[43mquoting\u001b[49m\u001b[38;5;241;43m=\u001b[39;49m\u001b[43mquoting\u001b[49m\u001b[43m,\u001b[49m\n\u001b[1;32m   3395\u001b[0m \u001b[43m    \u001b[49m\u001b[43mcolumns\u001b[49m\u001b[38;5;241;43m=\u001b[39;49m\u001b[43mcolumns\u001b[49m\u001b[43m,\u001b[49m\n\u001b[1;32m   3396\u001b[0m \u001b[43m    \u001b[49m\u001b[43mindex_label\u001b[49m\u001b[38;5;241;43m=\u001b[39;49m\u001b[43mindex_label\u001b[49m\u001b[43m,\u001b[49m\n\u001b[1;32m   3397\u001b[0m \u001b[43m    \u001b[49m\u001b[43mmode\u001b[49m\u001b[38;5;241;43m=\u001b[39;49m\u001b[43mmode\u001b[49m\u001b[43m,\u001b[49m\n\u001b[1;32m   3398\u001b[0m \u001b[43m    \u001b[49m\u001b[43mchunksize\u001b[49m\u001b[38;5;241;43m=\u001b[39;49m\u001b[43mchunksize\u001b[49m\u001b[43m,\u001b[49m\n\u001b[1;32m   3399\u001b[0m \u001b[43m    \u001b[49m\u001b[43mquotechar\u001b[49m\u001b[38;5;241;43m=\u001b[39;49m\u001b[43mquotechar\u001b[49m\u001b[43m,\u001b[49m\n\u001b[1;32m   3400\u001b[0m \u001b[43m    \u001b[49m\u001b[43mdate_format\u001b[49m\u001b[38;5;241;43m=\u001b[39;49m\u001b[43mdate_format\u001b[49m\u001b[43m,\u001b[49m\n\u001b[1;32m   3401\u001b[0m \u001b[43m    \u001b[49m\u001b[43mdoublequote\u001b[49m\u001b[38;5;241;43m=\u001b[39;49m\u001b[43mdoublequote\u001b[49m\u001b[43m,\u001b[49m\n\u001b[1;32m   3402\u001b[0m \u001b[43m    \u001b[49m\u001b[43mescapechar\u001b[49m\u001b[38;5;241;43m=\u001b[39;49m\u001b[43mescapechar\u001b[49m\u001b[43m,\u001b[49m\n\u001b[1;32m   3403\u001b[0m \u001b[43m    \u001b[49m\u001b[43mstorage_options\u001b[49m\u001b[38;5;241;43m=\u001b[39;49m\u001b[43mstorage_options\u001b[49m\u001b[43m,\u001b[49m\n\u001b[1;32m   3404\u001b[0m \u001b[43m\u001b[49m\u001b[43m)\u001b[49m\n",
      "File \u001b[0;32m~/opt/miniconda3/envs/fsk/lib/python3.9/site-packages/pandas/io/formats/format.py:1083\u001b[0m, in \u001b[0;36mDataFrameRenderer.to_csv\u001b[0;34m(self, path_or_buf, encoding, sep, columns, index_label, mode, compression, quoting, quotechar, line_terminator, chunksize, date_format, doublequote, escapechar, errors, storage_options)\u001b[0m\n\u001b[1;32m   1062\u001b[0m     created_buffer \u001b[38;5;241m=\u001b[39m \u001b[38;5;28;01mFalse\u001b[39;00m\n\u001b[1;32m   1064\u001b[0m csv_formatter \u001b[38;5;241m=\u001b[39m CSVFormatter(\n\u001b[1;32m   1065\u001b[0m     path_or_buf\u001b[38;5;241m=\u001b[39mpath_or_buf,\n\u001b[1;32m   1066\u001b[0m     line_terminator\u001b[38;5;241m=\u001b[39mline_terminator,\n\u001b[0;32m   (...)\u001b[0m\n\u001b[1;32m   1081\u001b[0m     formatter\u001b[38;5;241m=\u001b[39m\u001b[38;5;28mself\u001b[39m\u001b[38;5;241m.\u001b[39mfmt,\n\u001b[1;32m   1082\u001b[0m )\n\u001b[0;32m-> 1083\u001b[0m \u001b[43mcsv_formatter\u001b[49m\u001b[38;5;241;43m.\u001b[39;49m\u001b[43msave\u001b[49m\u001b[43m(\u001b[49m\u001b[43m)\u001b[49m\n\u001b[1;32m   1085\u001b[0m \u001b[38;5;28;01mif\u001b[39;00m created_buffer:\n\u001b[1;32m   1086\u001b[0m     \u001b[38;5;28;01massert\u001b[39;00m \u001b[38;5;28misinstance\u001b[39m(path_or_buf, StringIO)\n",
      "File \u001b[0;32m~/opt/miniconda3/envs/fsk/lib/python3.9/site-packages/pandas/io/formats/csvs.py:228\u001b[0m, in \u001b[0;36mCSVFormatter.save\u001b[0;34m(self)\u001b[0m\n\u001b[1;32m    224\u001b[0m \u001b[38;5;124;03m\"\"\"\u001b[39;00m\n\u001b[1;32m    225\u001b[0m \u001b[38;5;124;03mCreate the writer & save.\u001b[39;00m\n\u001b[1;32m    226\u001b[0m \u001b[38;5;124;03m\"\"\"\u001b[39;00m\n\u001b[1;32m    227\u001b[0m \u001b[38;5;66;03m# apply compression and byte/text conversion\u001b[39;00m\n\u001b[0;32m--> 228\u001b[0m \u001b[38;5;28;01mwith\u001b[39;00m \u001b[43mget_handle\u001b[49m\u001b[43m(\u001b[49m\n\u001b[1;32m    229\u001b[0m \u001b[43m    \u001b[49m\u001b[38;5;28;43mself\u001b[39;49m\u001b[38;5;241;43m.\u001b[39;49m\u001b[43mfilepath_or_buffer\u001b[49m\u001b[43m,\u001b[49m\n\u001b[1;32m    230\u001b[0m \u001b[43m    \u001b[49m\u001b[38;5;28;43mself\u001b[39;49m\u001b[38;5;241;43m.\u001b[39;49m\u001b[43mmode\u001b[49m\u001b[43m,\u001b[49m\n\u001b[1;32m    231\u001b[0m \u001b[43m    \u001b[49m\u001b[43mencoding\u001b[49m\u001b[38;5;241;43m=\u001b[39;49m\u001b[38;5;28;43mself\u001b[39;49m\u001b[38;5;241;43m.\u001b[39;49m\u001b[43mencoding\u001b[49m\u001b[43m,\u001b[49m\n\u001b[1;32m    232\u001b[0m \u001b[43m    \u001b[49m\u001b[43merrors\u001b[49m\u001b[38;5;241;43m=\u001b[39;49m\u001b[38;5;28;43mself\u001b[39;49m\u001b[38;5;241;43m.\u001b[39;49m\u001b[43merrors\u001b[49m\u001b[43m,\u001b[49m\n\u001b[1;32m    233\u001b[0m \u001b[43m    \u001b[49m\u001b[43mcompression\u001b[49m\u001b[38;5;241;43m=\u001b[39;49m\u001b[38;5;28;43mself\u001b[39;49m\u001b[38;5;241;43m.\u001b[39;49m\u001b[43mcompression\u001b[49m\u001b[43m,\u001b[49m\n\u001b[1;32m    234\u001b[0m \u001b[43m    \u001b[49m\u001b[43mstorage_options\u001b[49m\u001b[38;5;241;43m=\u001b[39;49m\u001b[38;5;28;43mself\u001b[39;49m\u001b[38;5;241;43m.\u001b[39;49m\u001b[43mstorage_options\u001b[49m\u001b[43m,\u001b[49m\n\u001b[1;32m    235\u001b[0m \u001b[43m\u001b[49m\u001b[43m)\u001b[49m \u001b[38;5;28;01mas\u001b[39;00m handles:\n\u001b[1;32m    236\u001b[0m \n\u001b[1;32m    237\u001b[0m     \u001b[38;5;66;03m# Note: self.encoding is irrelevant here\u001b[39;00m\n\u001b[1;32m    238\u001b[0m     \u001b[38;5;28mself\u001b[39m\u001b[38;5;241m.\u001b[39mwriter \u001b[38;5;241m=\u001b[39m csvlib\u001b[38;5;241m.\u001b[39mwriter(\n\u001b[1;32m    239\u001b[0m         handles\u001b[38;5;241m.\u001b[39mhandle,  \u001b[38;5;66;03m# type: ignore[arg-type]\u001b[39;00m\n\u001b[1;32m    240\u001b[0m         lineterminator\u001b[38;5;241m=\u001b[39m\u001b[38;5;28mself\u001b[39m\u001b[38;5;241m.\u001b[39mline_terminator,\n\u001b[0;32m   (...)\u001b[0m\n\u001b[1;32m    245\u001b[0m         quotechar\u001b[38;5;241m=\u001b[39m\u001b[38;5;28mself\u001b[39m\u001b[38;5;241m.\u001b[39mquotechar,\n\u001b[1;32m    246\u001b[0m     )\n\u001b[1;32m    248\u001b[0m     \u001b[38;5;28mself\u001b[39m\u001b[38;5;241m.\u001b[39m_save()\n",
      "File \u001b[0;32m~/opt/miniconda3/envs/fsk/lib/python3.9/site-packages/pandas/io/common.py:642\u001b[0m, in \u001b[0;36mget_handle\u001b[0;34m(path_or_buf, mode, encoding, compression, memory_map, is_text, errors, storage_options)\u001b[0m\n\u001b[1;32m    640\u001b[0m         errors \u001b[38;5;241m=\u001b[39m \u001b[38;5;124m\"\u001b[39m\u001b[38;5;124mreplace\u001b[39m\u001b[38;5;124m\"\u001b[39m\n\u001b[1;32m    641\u001b[0m     \u001b[38;5;66;03m# Encoding\u001b[39;00m\n\u001b[0;32m--> 642\u001b[0m     handle \u001b[38;5;241m=\u001b[39m \u001b[38;5;28;43mopen\u001b[39;49m\u001b[43m(\u001b[49m\n\u001b[1;32m    643\u001b[0m \u001b[43m        \u001b[49m\u001b[43mhandle\u001b[49m\u001b[43m,\u001b[49m\n\u001b[1;32m    644\u001b[0m \u001b[43m        \u001b[49m\u001b[43mioargs\u001b[49m\u001b[38;5;241;43m.\u001b[39;49m\u001b[43mmode\u001b[49m\u001b[43m,\u001b[49m\n\u001b[1;32m    645\u001b[0m \u001b[43m        \u001b[49m\u001b[43mencoding\u001b[49m\u001b[38;5;241;43m=\u001b[39;49m\u001b[43mioargs\u001b[49m\u001b[38;5;241;43m.\u001b[39;49m\u001b[43mencoding\u001b[49m\u001b[43m,\u001b[49m\n\u001b[1;32m    646\u001b[0m \u001b[43m        \u001b[49m\u001b[43merrors\u001b[49m\u001b[38;5;241;43m=\u001b[39;49m\u001b[43merrors\u001b[49m\u001b[43m,\u001b[49m\n\u001b[1;32m    647\u001b[0m \u001b[43m        \u001b[49m\u001b[43mnewline\u001b[49m\u001b[38;5;241;43m=\u001b[39;49m\u001b[38;5;124;43m\"\u001b[39;49m\u001b[38;5;124;43m\"\u001b[39;49m\u001b[43m,\u001b[49m\n\u001b[1;32m    648\u001b[0m \u001b[43m    \u001b[49m\u001b[43m)\u001b[49m\n\u001b[1;32m    649\u001b[0m \u001b[38;5;28;01melse\u001b[39;00m:\n\u001b[1;32m    650\u001b[0m     \u001b[38;5;66;03m# Binary mode\u001b[39;00m\n\u001b[1;32m    651\u001b[0m     handle \u001b[38;5;241m=\u001b[39m \u001b[38;5;28mopen\u001b[39m(handle, ioargs\u001b[38;5;241m.\u001b[39mmode)\n",
      "\u001b[0;31mFileNotFoundError\u001b[0m: [Errno 2] No such file or directory: '/Users/m_vilas/projects/fsk-multimodal/results/pred_inspection/clip_feature_preds.csv'"
     ]
    }
   ],
   "source": [
    "# for m in models:\n",
    "#     m_preds = []\n",
    "#     f_match_path = res_path / m / 'feature_match'\n",
    "#     for s, s_imgs in s_ids.items():\n",
    "#         s_info = fsk.loc[fsk['synsets'] == s]\n",
    "#         n_features = len(s_info)\n",
    "#         for img in s_imgs:\n",
    "#             i_pred = torch.load(f_match_path / f'{img}.pt', map_location=torch.device('cpu'))\n",
    "#             top_indices = i_pred.topk(n_features)[1]\n",
    "#             m_preds.append(\n",
    "#                 [s, img, [ft_idx[int(i)] for i in top_indices], s_info['features'].tolist()]\n",
    "#             )\n",
    "#     m_preds = pd.DataFrame(m_preds, columns=['synset', 'image', 'features', 'preds'])\n",
    "#     m_preds.to_csv(res_path / 'pred_inspection' / f'{m}_feature_preds.csv')\n",
    "    "
   ]
  },
  {
   "cell_type": "markdown",
   "id": "b0b33168",
   "metadata": {
    "tags": []
   },
   "source": [
    "# Inspecting feature predictions"
   ]
  },
  {
   "cell_type": "code",
   "execution_count": null,
   "id": "d92c031c-c2dc-4a53-8e21-f2504e61030c",
   "metadata": {},
   "outputs": [],
   "source": [
    "f_s_accs = {}\n",
    "for m in models:\n",
    "    f_s_accs[m] = f_preds[m].groupby(['synset', 'feature']).mean()\n",
    "f_s_acc = pd.concat(f_s_accs)\n",
    "f_s_acc"
   ]
  },
  {
   "cell_type": "code",
   "execution_count": null,
   "id": "f17502ec-716c-4434-9298-fb136ff8ea49",
   "metadata": {},
   "outputs": [],
   "source": [
    "idx=6\n",
    "print(synsets[idx])\n",
    "f_s_acc.xs(synsets[idx], level=1)"
   ]
  },
  {
   "cell_type": "code",
   "execution_count": null,
   "id": "20b4826c",
   "metadata": {
    "tags": []
   },
   "outputs": [],
   "source": [
    "f_accs = {}\n",
    "for m in models:\n",
    "    f_acc = f_preds[m].groupby(['feature']).mean()\n",
    "    f_accs[m] = (\n",
    "        pd.concat([f_acc, f_preds[m]['feature'].value_counts().rename('counts')], axis=1)\n",
    "    )\n",
    "pd.concat(f_accs).sort_values(by='counts', axis=0, ascending=False)[:30]"
   ]
  },
  {
   "cell_type": "markdown",
   "id": "93d631b4-4483-41d2-a25e-165c303ea08c",
   "metadata": {},
   "source": [
    "__Observation__: Variability across models.\n",
    "\n",
    "- _To-Do_: quantify variability"
   ]
  },
  {
   "cell_type": "markdown",
   "id": "044f185b",
   "metadata": {},
   "source": [
    "####  Display most and least matched images for a feature"
   ]
  },
  {
   "cell_type": "code",
   "execution_count": null,
   "id": "c74e3cf5",
   "metadata": {
    "tags": []
   },
   "outputs": [],
   "source": [
    "model = 'clip'\n",
    "#model = 'albef'\n",
    "#model = 'vilt'"
   ]
  },
  {
   "cell_type": "code",
   "execution_count": null,
   "id": "328e9aef",
   "metadata": {
    "tags": []
   },
   "outputs": [],
   "source": [
    "#f_probe = 'has_a_tail' # visual perceptual\n",
    "#f_probe = 'an_animal' # taxonomic\n",
    "#f_probe = 'is_edible'  # function\n",
    "#f_probe = 'is_loud'  # other_peceptual\n",
    "f_probe = 'found_in_kitchens' # encyclopaedic"
   ]
  },
  {
   "cell_type": "code",
   "execution_count": null,
   "id": "cadc3046",
   "metadata": {
    "tags": []
   },
   "outputs": [],
   "source": [
    "f_model = f_preds[model]\n",
    "test = f_model.loc[f_model['feature']==f_probe].sort_values(by='pred_val', axis=0, ascending=False)"
   ]
  },
  {
   "cell_type": "markdown",
   "id": "d7176412",
   "metadata": {},
   "source": [
    "__Observations__: \n",
    "- An animal in clip, is it the background? (Also evident in \"is edible\")\n",
    "- An animal in albef, there is also a visual pattern?\n",
    "- An animal in vilt, related to classes?"
   ]
  },
  {
   "cell_type": "code",
   "execution_count": null,
   "id": "26e7c6cb",
   "metadata": {
    "tags": []
   },
   "outputs": [],
   "source": [
    "test[:10]"
   ]
  },
  {
   "cell_type": "code",
   "execution_count": null,
   "id": "de29f813",
   "metadata": {
    "tags": []
   },
   "outputs": [],
   "source": [
    "test[-10:]"
   ]
  },
  {
   "cell_type": "code",
   "execution_count": null,
   "id": "eba1e1d0",
   "metadata": {
    "tags": []
   },
   "outputs": [],
   "source": [
    "c_dict = pd.Series(\n",
    "    concepts_info['ids_things'].values, index=concepts_info['synsets']\n",
    ").to_dict()\n",
    "\n",
    "for idx, row in test[:10].iterrows():\n",
    "    i_path = image_path / c_dict[row['synset']] / f'{row[\"image\"]}.jpg'\n",
    "    display(Image(i_path, width=300))"
   ]
  },
  {
   "cell_type": "code",
   "execution_count": null,
   "id": "aac545b0",
   "metadata": {
    "tags": []
   },
   "outputs": [],
   "source": [
    "c_dict = pd.Series(\n",
    "    concepts_info['ids_things'].values, index=concepts_info['synsets']\n",
    ").to_dict()\n",
    "\n",
    "for idx, row in test[-10:].iterrows():\n",
    "    i_path = image_path / c_dict[row['synset']] / f'{row[\"image\"]}.jpg'\n",
    "    display(Image(i_path, width=300))"
   ]
  },
  {
   "cell_type": "markdown",
   "id": "2e941cdc-f5e8-4dc6-a89f-e39cc326bea8",
   "metadata": {},
   "source": [
    "__Observations__:\n",
    "- Possible different invariances learned between models:\n",
    "    - Differences in the visual patterns\n",
    "    - Differences in concept-reliance"
   ]
  },
  {
   "cell_type": "markdown",
   "id": "e89863bc-725a-46a1-977c-607af9726e0d",
   "metadata": {},
   "source": [
    "# Relationship between concept and feature prediction"
   ]
  },
  {
   "cell_type": "markdown",
   "id": "cc1bce58",
   "metadata": {
    "tags": []
   },
   "source": [
    "### Concept detection via feature-prediction\n",
    "__Q:__ Can we predict the true concept in the image from the feature predictions?"
   ]
  },
  {
   "cell_type": "code",
   "execution_count": 53,
   "id": "96d6cc7d-e696-4015-bf5a-3a5cbc6974eb",
   "metadata": {},
   "outputs": [
    {
     "data": {
      "text/plain": [
       "(342, 1863)"
      ]
     },
     "execution_count": 53,
     "metadata": {},
     "output_type": "execute_result"
    }
   ],
   "source": [
    "preds.shape"
   ]
  },
  {
   "cell_type": "code",
   "execution_count": 67,
   "id": "6cf6e159",
   "metadata": {
    "tags": []
   },
   "outputs": [
    {
     "name": "stdout",
     "output_type": "stream",
     "text": [
      "Top 10 accuracy of clip: 0.459\n",
      "Top 10 accuracy of albef: 0.243\n",
      "Top 10 accuracy of vilt: 0.383\n"
     ]
    }
   ],
   "source": [
    "cd_preds = {}\n",
    "for met in metrics:\n",
    "    #sem_ft = StandardScaler().fit_transform(mcrae_ft.values)\n",
    "    sem_ft = mcrae_ft.values\n",
    "    for m in models:\n",
    "        acc = 0\n",
    "        f_match_path = project_path / 'results' / m / 'feature_match'\n",
    "        syns = []\n",
    "        imgs = []\n",
    "        preds = []\n",
    "        for s, s_imgs in s_ids.items():\n",
    "            for img in s_imgs:\n",
    "                i_pred = torch.load(f_match_path / f'{img}.pt', map_location=torch.device('cpu'))\n",
    "                preds.append(i_pred.unsqueeze(dim=0).detach().numpy())\n",
    "                syns.append(s)\n",
    "                imgs.append(img)\n",
    "        preds = np.squeeze(np.array(preds))\n",
    "        preds = preds - np.mean(preds)\n",
    "        #preds = StandardScaler().fit_transform(preds)\n",
    "\n",
    "        # Cosine\n",
    "        #if 'cosine' in met:\n",
    "        dist = cdist(preds, sem_ft, 'cosine')\n",
    "        # Pearson\n",
    "        #elif 'pearson' in met:\n",
    "        #dist = cdist(preds, sem_ft, 'correlation')\n",
    "\n",
    "        top_preds = []\n",
    "        for i in range(len(dist)):\n",
    "            top_indices = np.argsort(dist[i])[:10]\n",
    "            concept_preds = [synsets[i] for i in top_indices]\n",
    "            acc += np.sum([True for c in concept_preds if c in c_preds[m].iloc[i]['preds']])\n",
    "            # if syns[i] in concept_preds:\n",
    "            #     acc += 1 \n",
    "            top_preds.append(concept_preds)\n",
    "\n",
    "        m_preds = pd.DataFrame({'synset':syns, 'image':imgs, 'top_preds':top_preds})\n",
    "        m_preds.to_csv(res_path / 'pred_inspection' / f'{m}_{met}_concept_detection.csv')\n",
    "        cd_preds[m] = m_preds\n",
    "        \n",
    "        print(f'Top 10 accuracy of {m}: {np.round(acc / (10*len(dist)), 3)}')\n",
    "            "
   ]
  },
  {
   "cell_type": "code",
   "execution_count": 38,
   "id": "a09d6184-4efc-466a-bbe0-9ce4666c2ab4",
   "metadata": {},
   "outputs": [
    {
     "data": {
      "text/plain": [
       "5"
      ]
     },
     "execution_count": 38,
     "metadata": {},
     "output_type": "execute_result"
    }
   ],
   "source": [
    "np.sum([True for c in concept_preds if c in c_preds['clip'].iloc[-1]['preds']])"
   ]
  },
  {
   "cell_type": "markdown",
   "id": "11fef6bb-0612-48f0-a247-b45e574cef83",
   "metadata": {},
   "source": [
    "__Observation:__ Not far from real concept detection values!\n",
    "\n",
    "!! I'm actually measuring if retrieved concept is correct, not if it correlates with the decided object."
   ]
  },
  {
   "cell_type": "markdown",
   "id": "a0460857",
   "metadata": {},
   "source": [
    "__Observation:__ _Standarized Pearson_ gave best results.\n",
    "\n",
    "- _Results with Cosine Distance_\n",
    "    - CLIP: 0.081\n",
    "    - ALBEF: 0.35\n",
    "    - ViLT: 0.16\n",
    "- _Results with Standarized Cosine Distance_\n",
    "    - CLIP: 0.36\n",
    "    - ALBEF: 0.37\n",
    "    - ViLT: 0.29\n",
    "- _Results with Pearson Distance_\n",
    "    - CLIP: 0.38\n",
    "    - ALBEF: 0.36\n",
    "    - ViLT: 0.28"
   ]
  },
  {
   "cell_type": "markdown",
   "id": "335767ae",
   "metadata": {},
   "source": [
    "### TO-DO\n",
    "- Do this feature-wise\n",
    "- Can we say something about the other concepts being predicted?"
   ]
  },
  {
   "cell_type": "markdown",
   "id": "f1176502",
   "metadata": {
    "tags": []
   },
   "source": [
    "### Correlation between concept and feature prediction\n",
    "- Test if correlation is higher for related concept-feature pairs"
   ]
  },
  {
   "cell_type": "code",
   "execution_count": 64,
   "id": "fe704b24",
   "metadata": {
    "tags": []
   },
   "outputs": [],
   "source": [
    "cpreds = {}\n",
    "fpreds = {}\n",
    "for m in models:\n",
    "    m_cpreds = []\n",
    "    m_fpreds = []\n",
    "    for s, s_imgs in s_ids.items():\n",
    "        for img in s_imgs:\n",
    "            m_cpreds.append(torch.load(\n",
    "                res_path / m / 'concept_match'/ f'{img}.pt', map_location=torch.device('cpu')\n",
    "            ))\n",
    "            m_fpreds.append(torch.load(\n",
    "                res_path / m / 'feature_match'/ f'{img}.pt', map_location=torch.device('cpu')\n",
    "            ))\n",
    "    cpreds[m] = torch.stack(m_cpreds).detach().numpy().T\n",
    "    fpreds[m] = torch.stack(m_fpreds).detach().numpy().T"
   ]
  },
  {
   "cell_type": "code",
   "execution_count": 65,
   "id": "d4a405e1",
   "metadata": {
    "tags": []
   },
   "outputs": [],
   "source": [
    "corrs = {}\n",
    "for m in models:\n",
    "    m_corrs = []\n",
    "    for idx, row in c_preds[m].iterrows():\n",
    "        synset = row['synset']\n",
    "        cp = cpreds[m][synsets.index(row['synset'])]\n",
    "        s_info = fsk.loc[fsk['synsets']==synset]\n",
    "        for _, f_row in s_info.iterrows():\n",
    "            fp = fpreds[m][f_row['features_idx']]\n",
    "            dist = cdist(cp.reshape(1,-1), fp.reshape(1,-1), 'correlation')\n",
    "            m_corrs.append([synset, f_row['features'], f_row['features_type'], 1 - dist[0][0]])\n",
    "    corrs[m] = pd.DataFrame(m_corrs, columns =['synset', 'feature', 'feature_type', 'corr'])"
   ]
  },
  {
   "cell_type": "code",
   "execution_count": 66,
   "id": "48875f88",
   "metadata": {
    "tags": []
   },
   "outputs": [
    {
     "name": "stdout",
     "output_type": "stream",
     "text": [
      "clip\n",
      "Ttest_relResult(statistic=221.29688460275827, pvalue=0.0)\n"
     ]
    },
    {
     "data": {
      "image/png": "[encoded data removed]",
      "text/plain": [
       "<Figure size 640x480 with 1 Axes>"
      ]
     },
     "metadata": {},
     "output_type": "display_data"
    },
    {
     "name": "stdout",
     "output_type": "stream",
     "text": [
      "albef\n",
      "Ttest_relResult(statistic=113.3745961018776, pvalue=0.0)\n"
     ]
    },
    {
     "data": {
      "image/png": "[encoded data removed]",
      "text/plain": [
       "<Figure size 640x480 with 1 Axes>"
      ]
     },
     "metadata": {},
     "output_type": "display_data"
    },
    {
     "name": "stdout",
     "output_type": "stream",
     "text": [
      "vilt\n",
      "Ttest_relResult(statistic=221.83170481682853, pvalue=0.0)\n"
     ]
    },
    {
     "data": {
      "image/png": "[encoded data removed]",
      "text/plain": [
       "<Figure size 640x480 with 1 Axes>"
      ]
     },
     "metadata": {},
     "output_type": "display_data"
    }
   ],
   "source": [
    "for m in models:\n",
    "    true_corrs = corrs[m]['corr'].to_numpy()\n",
    "    random_corrs = []\n",
    "    for _ in range(len(corrs[m])):\n",
    "        cp = cpreds[m][np.random.randint(low=0, high=len(cpreds[m]))]\n",
    "        fp = fpreds[m][np.random.randint(low=0, high=len(fpreds[m]))]\n",
    "        dist = cdist(cp.reshape(1,-1), fp.reshape(1,-1), 'correlation')\n",
    "        random_corrs.append(1 - dist[0][0])\n",
    "    random_corrs = np.array(random_corrs)\n",
    "\n",
    "    print(m)\n",
    "    print(ttest_rel(true_corrs, random_corrs))\n",
    "    \n",
    "    plt.hist(true_corrs, alpha=0.5, label='True correlations')\n",
    "    plt.hist(random_corrs, alpha=0.5, label='Random correlations')\n",
    "    plt.legend(loc='upper right')\n",
    "    plt.show()"
   ]
  },
  {
   "cell_type": "markdown",
   "id": "9b36670d-6fe1-448d-a109-605e672533c1",
   "metadata": {},
   "source": [
    "#### To-Do\n",
    "- Compute mutual information instead of linear correlation\n",
    "  - Probability of feature detected if concept is found? and viceversa"
   ]
  },
  {
   "cell_type": "code",
   "execution_count": 57,
   "id": "06adbe40-ceed-4365-b600-03fb4a1c1216",
   "metadata": {},
   "outputs": [
    {
     "data": {
      "text/plain": [
       "(342, 4928)"
      ]
     },
     "execution_count": 57,
     "metadata": {},
     "output_type": "execute_result"
    }
   ],
   "source": [
    "cpreds['albef'].shape"
   ]
  },
  {
   "cell_type": "code",
   "execution_count": 63,
   "id": "5258a097-8e73-4ef8-a6be-1147e1d754d0",
   "metadata": {},
   "outputs": [
    {
     "data": {
      "text/plain": [
       "array([0.999, 0.   , 0.   , 0.   , 0.001, 0.   , 0.001, 0.   , 0.   ,\n",
       "       0.   , 0.001, 0.   , 0.   , 0.   , 0.   , 0.002, 0.   , 0.   ,\n",
       "       0.   , 0.   , 0.   , 0.   , 0.   , 0.001, 0.001, 0.   , 0.   ,\n",
       "       0.   , 0.   , 0.   , 0.   , 0.   , 0.   , 0.002, 0.   , 0.006,\n",
       "       0.025, 0.001, 0.002, 0.003, 0.   , 0.   , 0.   , 0.   , 0.   ,\n",
       "       0.   , 0.   , 0.   , 0.   , 0.   , 0.001, 0.   , 0.001, 0.002,\n",
       "       0.   , 0.001, 0.   , 0.   , 0.   , 0.   , 0.   , 0.   , 0.   ,\n",
       "       0.   , 0.001, 0.   , 0.   , 0.   , 0.001, 0.   , 0.   , 0.   ,\n",
       "       0.   , 0.   , 0.   , 0.   , 0.003, 0.   , 0.   , 0.   , 0.   ,\n",
       "       0.   , 0.   , 0.   , 0.   , 0.   , 0.   , 0.002, 0.   , 0.   ,\n",
       "       0.   , 0.   , 0.   , 0.   , 0.001, 0.   , 0.   , 0.   , 0.   ,\n",
       "       0.002, 0.001, 0.   , 0.   , 0.   , 0.   , 0.   , 0.003, 0.   ,\n",
       "       0.   , 0.   , 0.   , 0.   , 0.   , 0.   , 0.   , 0.   , 0.   ,\n",
       "       0.001, 0.   , 0.001, 0.005, 0.   , 0.   , 0.   , 0.   , 0.   ,\n",
       "       0.003, 0.   , 0.   , 0.   , 0.   , 0.   , 0.013, 0.001, 0.   ,\n",
       "       0.   , 0.   , 0.001, 0.001, 0.001, 0.   , 0.   , 0.   , 0.   ,\n",
       "       0.   , 0.   , 0.   , 0.   , 0.   , 0.001, 0.   , 0.   , 0.   ,\n",
       "       0.   , 0.002, 0.   , 0.   , 0.   , 0.   , 0.002, 0.   , 0.   ,\n",
       "       0.02 , 0.   , 0.   , 0.   , 0.004, 0.   , 0.   , 0.   , 0.   ,\n",
       "       0.   , 0.   , 0.   , 0.   , 0.   , 0.   , 0.001, 0.   , 0.   ,\n",
       "       0.002, 0.   , 0.   , 0.001, 0.   , 0.   , 0.   , 0.001, 0.   ,\n",
       "       0.001, 0.001, 0.   , 0.   , 0.   , 0.   , 0.001, 0.   , 0.   ,\n",
       "       0.004, 0.   , 0.002, 0.   , 0.   , 0.   , 0.   , 0.   , 0.   ,\n",
       "       0.   , 0.005, 0.   , 0.   , 0.   , 0.   , 0.001, 0.   , 0.   ,\n",
       "       0.003, 0.001, 0.   , 0.   , 0.   , 0.001, 0.   , 0.   , 0.   ,\n",
       "       0.   , 0.   , 0.005, 0.   , 0.   , 0.   , 0.   , 0.   , 0.   ,\n",
       "       0.002, 0.   , 0.   , 0.   , 0.   , 0.005, 0.   , 0.   , 0.001,\n",
       "       0.001, 0.   , 0.   , 0.   , 0.   , 0.   , 0.001, 0.   , 0.08 ,\n",
       "       0.   , 0.005, 0.   , 0.   , 0.   , 0.   , 0.   , 0.002, 0.   ,\n",
       "       0.   , 0.   , 0.   , 0.   , 0.   , 0.   , 0.   , 0.   , 0.   ,\n",
       "       0.   , 0.001, 0.   , 0.   , 0.   , 0.01 , 0.   , 0.001, 0.   ,\n",
       "       0.   , 0.   , 0.   , 0.   , 0.   , 0.   , 0.   , 0.   , 0.001,\n",
       "       0.   , 0.   , 0.   , 0.   , 0.   , 0.   , 0.   , 0.   , 0.   ,\n",
       "       0.   , 0.   , 0.   , 0.001, 0.002, 0.002, 0.001, 0.   , 0.   ,\n",
       "       0.   , 0.   , 0.   , 0.   , 0.   , 0.   , 0.   , 0.   , 0.   ,\n",
       "       0.   , 0.   , 0.   , 0.   , 0.001, 0.   , 0.   , 0.   , 0.   ,\n",
       "       0.   , 0.   , 0.   , 0.   , 0.   , 0.   , 0.   , 0.   , 0.   ,\n",
       "       0.   , 0.   , 0.001, 0.008, 0.001, 0.   , 0.   , 0.   , 0.   ],\n",
       "      dtype=float32)"
      ]
     },
     "execution_count": 63,
     "metadata": {},
     "output_type": "execute_result"
    }
   ],
   "source": [
    "np.round(cpreds['albef'][:, 1], 3)"
   ]
  },
  {
   "cell_type": "code",
   "execution_count": 61,
   "id": "cda01a72-11de-4b7a-8186-12796ed021f5",
   "metadata": {},
   "outputs": [
    {
     "data": {
      "image/png": "[encoded data removed]",
      "text/plain": [
       "<Figure size 432x288 with 1 Axes>"
      ]
     },
     "metadata": {
      "needs_background": "light"
     },
     "output_type": "display_data"
    }
   ],
   "source": [
    "plt.hist(cpreds['albef'][:, 8], alpha=0.5, label='ALBEF preds')\n",
    "plt.show()"
   ]
  },
  {
   "cell_type": "markdown",
   "id": "2bd10bfd-eba4-4cac-9e2f-797a3d69bf39",
   "metadata": {
    "tags": []
   },
   "source": [
    "# Open Questions\n",
    "\n",
    "#### Characterize in depth WHAT features are learned for each type of network\n",
    "- Characterize the dependency between detected feature and concept\n",
    "    - Maybe some features are only detected for some concepts, and vice-versa\n",
    "- Only observable features? (we need VG dataset)\n",
    "- Dependence on word in feature description?\n",
    "\n",
    "#### Characterize HOW these feature invariances are represented\n",
    "- Detection of visual patterns related to non-observable features\n",
    "  - Methods?\n",
    "- Characterize the RELATIONSHIP between the feature invariances and concepts\n",
    "  - (Specially important for non-observable features --> does the network recognize a concept and activates its corresponding features, or are features separately learned?)\n",
    "  - Does the detection of concepts precedes the detection of features? Of viceversa?\n",
    "      - Linear decoding?\n",
    "      - Constrain analysis to detected features and concepts\n",
    "  - Determine \"causality\" with ablation studies?\n",
    "  - Examine transformations between selective neurons for concepts and selective neurons for features\n",
    "      - E.g. are feature neurons an addition of concept neurons? A subselection? A type of linear transformation?\n",
    "  - Are the internal representations of a feature the same across concepts?\n",
    "  - Exploration of how the representational spaces change if both concepts are features are added to prompt.\n",
    "      - Maybe this is dependent on features and concepts being recognized in the single case\n",
    "  - (All these effects might only work for some concepts/features)"
   ]
  },
  {
   "cell_type": "code",
   "execution_count": null,
   "id": "3050ae7f-53db-4791-b3d7-cf2338713d09",
   "metadata": {
    "tags": []
   },
   "outputs": [],
   "source": []
  },
  {
   "cell_type": "markdown",
   "id": "aad3de35-9765-4f62-836b-bee300f1fe83",
   "metadata": {
    "tags": []
   },
   "source": [
    "# Scratch space"
   ]
  },
  {
   "cell_type": "code",
   "execution_count": 23,
   "id": "759de82f",
   "metadata": {
    "tags": []
   },
   "outputs": [],
   "source": [
    "# y = fpreds['clip'][0]\n",
    "# X = []\n",
    "# for idx, row in c_preds['clip'].iterrows():\n",
    "#     net_ft = torch.load(\n",
    "#         (res_path / 'clip' / 'net_ft' / f'hs_img_{row[\"image\"]}.pt'),\n",
    "#         map_location=torch.device('cpu')\n",
    "#     )\n",
    "#     X.append(net_ft[-1, 0, 0, :])\n",
    "# X = torch.stack(X).detach().numpy()"
   ]
  },
  {
   "cell_type": "code",
   "execution_count": 24,
   "id": "9f4a1fbc",
   "metadata": {
    "tags": []
   },
   "outputs": [
    {
     "ename": "NameError",
     "evalue": "name 'make_pipeline' is not defined",
     "output_type": "error",
     "traceback": [
      "\u001b[0;31m---------------------------------------------------------------------------\u001b[0m",
      "\u001b[0;31mNameError\u001b[0m                                 Traceback (most recent call last)",
      "Input \u001b[0;32mIn [24]\u001b[0m, in \u001b[0;36m<cell line: 21>\u001b[0;34m()\u001b[0m\n\u001b[1;32m     18\u001b[0m svr \u001b[38;5;241m=\u001b[39m SVR()\n\u001b[1;32m     19\u001b[0m X_train \u001b[38;5;241m=\u001b[39m StandardScaler()\u001b[38;5;241m.\u001b[39mfit_transform(X_train)\n\u001b[0;32m---> 21\u001b[0m reg \u001b[38;5;241m=\u001b[39m \u001b[43mmake_pipeline\u001b[49m(StandardScaler(), mutual_info_regression())\n\u001b[1;32m     23\u001b[0m reg\u001b[38;5;241m.\u001b[39mfit(X_train, y_train)\n",
      "\u001b[0;31mNameError\u001b[0m: name 'make_pipeline' is not defined"
     ]
    }
   ],
   "source": [
    "from sklearn.feature_selection import mutual_info_regression\n",
    "from sklearn.linear_model import LinearRegression\n",
    "from sklearn.metrics import mean_absolute_error, r2_score\n",
    "from sklearn.model_selection import GridSearchCV, train_test_split\n",
    "from sklearn.svm import SVR\n",
    "\n",
    "y = fpreds['clip'][0]\n",
    "X = []\n",
    "for idx, row in c_preds['clip'].iterrows():\n",
    "    net_ft = torch.load(\n",
    "        (res_path / 'clip' / 'net_ft' / f'hs_img_{row[\"image\"]}.pt'),\n",
    "        map_location=torch.device('cpu')\n",
    "    )\n",
    "    X.append(net_ft[-1, 0, 0, :])\n",
    "X = torch.stack(X).detach().numpy()\n",
    "X_train, X_test, y_train, y_test = train_test_split(X, y)\n",
    "\n",
    "svr = SVR()\n",
    "X_train = StandardScaler().fit_transform(X_train)\n",
    "\n",
    "reg = make_pipeline(StandardScaler(), mutual_info_regression())\n",
    "\n",
    "reg.fit(X_train, y_train)\n",
    "#mean_absolute_error(reg.predict(X_test), y_test)\n",
    "#r2_score(reg.predict(X_test), y_test)"
   ]
  },
  {
   "cell_type": "code",
   "execution_count": null,
   "id": "8bb75efd",
   "metadata": {
    "tags": []
   },
   "outputs": [],
   "source": [
    "test = mutual_info_regression(X, y)"
   ]
  },
  {
   "cell_type": "code",
   "execution_count": null,
   "id": "0acb1e57",
   "metadata": {
    "tags": []
   },
   "outputs": [],
   "source": [
    "plt.hist(test, alpha=0.5)\n",
    "plt.show()"
   ]
  },
  {
   "cell_type": "code",
   "execution_count": null,
   "id": "3e3deca6",
   "metadata": {
    "tags": []
   },
   "outputs": [],
   "source": [
    "plt.hist(reg.predict(X_test) - y_test, alpha=0.5)\n",
    "plt.show()"
   ]
  },
  {
   "cell_type": "code",
   "execution_count": null,
   "id": "3252ce74",
   "metadata": {
    "tags": []
   },
   "outputs": [],
   "source": [
    "plt.hist(StandardScaler().fit_transform(y_train.reshape(-1,1)), alpha=0.5)\n",
    "plt.show()"
   ]
  },
  {
   "cell_type": "code",
   "execution_count": null,
   "id": "3f9d5344",
   "metadata": {
    "tags": []
   },
   "outputs": [],
   "source": [
    "plt.hist(StandardScaler().fit_transform(y.reshape(-1,1)), alpha=0.5)\n",
    "plt.show()"
   ]
  },
  {
   "cell_type": "markdown",
   "id": "5a919cbe",
   "metadata": {
    "tags": []
   },
   "source": [
    "### TO-DO:\n",
    "- Repeat analysis with abstract words\n",
    "- Repeat analysis with subselection of words that are doing something vs not\n",
    "- Clusterear"
   ]
  }
 ],
 "metadata": {
  "kernelspec": {
   "display_name": "Python 3 (ipykernel)",
   "language": "python",
   "name": "python3"
  },
  "language_info": {
   "codemirror_mode": {
    "name": "ipython",
    "version": 3
   },
   "file_extension": ".py",
   "mimetype": "text/x-python",
   "name": "python",
   "nbconvert_exporter": "python",
   "pygments_lexer": "ipython3",
   "version": "3.9.13"
  }
 },
 "nbformat": 4,
 "nbformat_minor": 5
}
