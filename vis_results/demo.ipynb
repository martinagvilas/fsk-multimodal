{
 "cells": [
  {
   "cell_type": "markdown",
   "id": "5825951b-16f5-4cdb-bbfc-00d14f39c24d",
   "metadata": {},
   "source": [
    "# Examining Conceptual Behavior in V+L Models"
   ]
  },
  {
   "cell_type": "code",
   "execution_count": 33,
   "id": "c9fe7960-0ed5-4c14-8f36-a2324265871e",
   "metadata": {
    "tags": []
   },
   "outputs": [],
   "source": [
    "from pathlib import Path\n",
    "import pickle\n",
    "\n",
    "import numpy as np\n",
    "import matplotlib.pyplot as plt\n",
    "import pandas as pd\n",
    "import seaborn as sns\n",
    "from scipy.stats import spearmanr\n",
    "import torch\n",
    "from torchmetrics.functional import accuracy, coverage_error, recall\n",
    "\n",
    "from fsk.config import layers, feature_types, multi_models_info\n",
    "from fsk.dataprep.utils import get_synsets_ids, get_fsk, get_fsk_features, get_feature_idx_map\n",
    "from fsk.it_match.load import get_match, get_concept_match_distance, get_feature_match_distance\n",
    "from fsk.similarity.sem_distances import get_mcrae_features"
   ]
  },
  {
   "cell_type": "markdown",
   "id": "72d25075-5c8a-4f17-9c56-4403c92c9b81",
   "metadata": {},
   "source": [
    "To run locally, define the directory containing the project's data:"
   ]
  },
  {
   "cell_type": "code",
   "execution_count": 34,
   "id": "3f0415c4-d247-4f53-8ae6-0d187c9736b2",
   "metadata": {
    "tags": []
   },
   "outputs": [],
   "source": [
    "project_path =  Path('/Users/m_vilas/projects/fsk-multimodal')"
   ]
  },
  {
   "cell_type": "code",
   "execution_count": 35,
   "id": "78bc4dbf-f3af-42bc-8682-71a21708eec2",
   "metadata": {
    "tags": []
   },
   "outputs": [],
   "source": [
    "res_path = project_path / 'results'"
   ]
  },
  {
   "cell_type": "code",
   "execution_count": 36,
   "id": "8e98e99f-20f4-45b7-b156-537ec1f4700c",
   "metadata": {
    "tags": []
   },
   "outputs": [],
   "source": [
    "# Load synsets and concepts\n",
    "synsets_imgs, concepts = get_synsets_ids(project_path / 'dataset')\n",
    "concepts_things = concepts['things']\n",
    "synsets = list(synsets_imgs.keys())\n",
    "synset_concept_map = {s: c for s, c in zip(synsets, concepts_things)}\n",
    "# Load semantic feature data\n",
    "fsk_info = get_fsk(project_path / 'dataset')\n",
    "sem_ft = get_fsk_features(project_path / 'dataset')\n",
    "sem_ft_idx = get_feature_idx_map(project_path / 'dataset/annotations')\n",
    "r_sem_ft_idx = {val: key for key, val in sem_ft_idx.items()}\n",
    "sem_ft_type = {f: f_t for f, f_t in zip(fsk_info['features'], fsk_info['features_type'])}\n",
    "sem_ft_idx_by_type = {\n",
    "    ft: list(set(fsk_info.loc[fsk_info['features_type']== ft]['features_idx'])) \n",
    "    for ft in feature_types if ft is not None\n",
    "}\n",
    "synset_features = {s: fsk_info.loc[fsk_info['synsets'] == s]['features'].tolist() for s in synsets}"
   ]
  },
  {
   "cell_type": "code",
   "execution_count": 37,
   "id": "0c284079-68bf-4fd2-a945-261f3d14febf",
   "metadata": {
    "tags": []
   },
   "outputs": [],
   "source": [
    "# Define models\n",
    "models = ['clip', 'vilt', 'albef']\n",
    "features_order = ['taxonomic', 'visual_perceptual', 'function', 'encyclopaedic', 'other_perceptual']"
   ]
  },
  {
   "cell_type": "code",
   "execution_count": 38,
   "id": "1d23e479-e16a-4b16-9944-0fe4f59e4c09",
   "metadata": {
    "tags": []
   },
   "outputs": [],
   "source": [
    "# Create an array with the colors you want to use\n",
    "models_colors = [\"#70AC99\", \"#BA8A49\", \"#A46882\"]\n",
    "models_palette = sns.set_palette(sns.color_palette(models_colors))"
   ]
  },
  {
   "cell_type": "markdown",
   "id": "c5c3dafe-6a02-48c3-a0ec-a43670203c5a",
   "metadata": {},
   "source": [
    "## A) Comparison with unimodal models"
   ]
  },
  {
   "cell_type": "markdown",
   "id": "38438d36-c203-4a12-a2e6-fd512636424f",
   "metadata": {
    "tags": []
   },
   "source": [
    "### 1) Is the conceptual behavior of V+L models different?"
   ]
  },
  {
   "cell_type": "markdown",
   "id": "57fea405-a043-455f-84cf-dc238cdc5a68",
   "metadata": {},
   "source": [
    "- Show comparison of RSA of layers\n",
    "- Show RSA of decisions"
   ]
  },
  {
   "cell_type": "markdown",
   "id": "f0e74732-8dd9-4156-98d2-38d4881cbd2f",
   "metadata": {},
   "source": [
    "### 2) Are V+L able to lexicalize categories?"
   ]
  },
  {
   "cell_type": "markdown",
   "id": "9ceb4df2-cf6f-4285-8f85-58753fee19b7",
   "metadata": {},
   "source": [
    "Introduce \"lexicalization\" task. Report accuracy and accuracy per category type."
   ]
  },
  {
   "cell_type": "code",
   "execution_count": 29,
   "id": "28c86981-87a8-4468-8e88-2adab9f43a79",
   "metadata": {
    "tags": []
   },
   "outputs": [
    {
     "name": "stdout",
     "output_type": "stream",
     "text": [
      "TOP 1 accuracy of CLIP : 0.8325892686843872\n",
      "TOP 5 accuracy of CLIP : 0.9659090638160706\n",
      "TOP 10 accuracy of CLIP : 0.9831574559211731\n",
      "\n",
      "\n",
      "TOP 1 accuracy of VILT : 0.5184659361839294\n",
      "TOP 5 accuracy of VILT : 0.7719155550003052\n",
      "TOP 10 accuracy of VILT : 0.8398944735527039\n",
      "\n",
      "\n",
      "TOP 1 accuracy of ALBEF : 0.8114854097366333\n",
      "TOP 5 accuracy of ALBEF : 0.948051929473877\n",
      "TOP 10 accuracy of ALBEF : 0.9638798832893372\n",
      "\n",
      "\n"
     ]
    }
   ],
   "source": [
    "# Compute correct labels of concepts\n",
    "concept_labels = torch.zeros(4928, 342)\n",
    "s_lens = torch.Tensor([len(s_imgs) for _, s_imgs in synsets_imgs.items()]).to(torch.int32)\n",
    "concept_idxs = torch.repeat_interleave(torch.arange(0, len(synsets)), s_lens)\n",
    "\n",
    "# Compute accuracy\n",
    "top_k = [1, 5, 10]\n",
    "for m in models:\n",
    "    c_match, c_labels = get_match(res_path, m, synsets_imgs, center=True, avg=False, return_np=False)\n",
    "    for k in top_k:\n",
    "        print(f'TOP {k} accuracy of {m.upper()} : {accuracy(c_match, concept_idxs, top_k=k)}')\n",
    "    print('\\n')\n",
    "        "
   ]
  },
  {
   "cell_type": "markdown",
   "id": "cc728404-f21d-4e81-b6d7-240c6796e4b0",
   "metadata": {},
   "source": [
    "__TO-DO__: select some examples to show:"
   ]
  },
  {
   "cell_type": "code",
   "execution_count": 31,
   "id": "f2936ee6-cd28-4c3a-93d5-3dd110765b2e",
   "metadata": {
    "collapsed": true,
    "jupyter": {
     "outputs_hidden": true,
     "source_hidden": true
    },
    "tags": []
   },
   "outputs": [
    {
     "ename": "KeyboardInterrupt",
     "evalue": "",
     "output_type": "error",
     "traceback": [
      "\u001b[0;31m---------------------------------------------------------------------------\u001b[0m",
      "\u001b[0;31mKeyboardInterrupt\u001b[0m                         Traceback (most recent call last)",
      "Input \u001b[0;32mIn [31]\u001b[0m, in \u001b[0;36m<cell line: 2>\u001b[0;34m()\u001b[0m\n\u001b[1;32m      1\u001b[0m i \u001b[38;5;241m=\u001b[39m \u001b[38;5;241m0\u001b[39m\n\u001b[1;32m      2\u001b[0m \u001b[38;5;28;01mfor\u001b[39;00m s, s_len \u001b[38;5;129;01min\u001b[39;00m \u001b[38;5;28mzip\u001b[39m(synsets, s_lens):\n\u001b[0;32m----> 3\u001b[0m     c_match, c_labels \u001b[38;5;241m=\u001b[39m \u001b[43mget_match\u001b[49m\u001b[43m(\u001b[49m\u001b[43mres_path\u001b[49m\u001b[43m,\u001b[49m\u001b[43m \u001b[49m\u001b[38;5;124;43m'\u001b[39;49m\u001b[38;5;124;43mclip\u001b[39;49m\u001b[38;5;124;43m'\u001b[39;49m\u001b[43m,\u001b[49m\u001b[43m \u001b[49m\u001b[43msynsets_imgs\u001b[49m\u001b[43m,\u001b[49m\u001b[43m \u001b[49m\u001b[43mcenter\u001b[49m\u001b[38;5;241;43m=\u001b[39;49m\u001b[38;5;28;43;01mFalse\u001b[39;49;00m\u001b[43m,\u001b[49m\u001b[43m \u001b[49m\u001b[43mavg\u001b[49m\u001b[38;5;241;43m=\u001b[39;49m\u001b[38;5;28;43;01mFalse\u001b[39;49;00m\u001b[43m,\u001b[49m\u001b[43m \u001b[49m\u001b[43mreturn_np\u001b[49m\u001b[38;5;241;43m=\u001b[39;49m\u001b[38;5;28;43;01mFalse\u001b[39;49;00m\u001b[43m)\u001b[49m\n\u001b[1;32m      4\u001b[0m     s_preds \u001b[38;5;241m=\u001b[39m [\n\u001b[1;32m      5\u001b[0m         synsets[s] \u001b[38;5;28;01mfor\u001b[39;00m s \u001b[38;5;129;01min\u001b[39;00m torch\u001b[38;5;241m.\u001b[39mbincount(c_match[i:i\u001b[38;5;241m+\u001b[39ms_len]\u001b[38;5;241m.\u001b[39mtopk(\u001b[38;5;241m10\u001b[39m)[\u001b[38;5;241m1\u001b[39m]\u001b[38;5;241m.\u001b[39mflatten())\u001b[38;5;241m.\u001b[39mtopk(\u001b[38;5;241m10\u001b[39m)[\u001b[38;5;241m1\u001b[39m]\n\u001b[1;32m      6\u001b[0m     ]\n\u001b[1;32m      7\u001b[0m     i \u001b[38;5;241m+\u001b[39m\u001b[38;5;241m=\u001b[39m s_len\n",
      "File \u001b[0;32m~/projects/fsk-multimodal/fsk/it_match/load.py:23\u001b[0m, in \u001b[0;36mget_match\u001b[0;34m(res_path, model, synsets_imgs, center, m_type, avg, return_np)\u001b[0m\n\u001b[1;32m     20\u001b[0m         labels\u001b[38;5;241m.\u001b[39mappend([s, img])\n\u001b[1;32m     21\u001b[0m     img_file \u001b[38;5;241m=\u001b[39m res_path \u001b[38;5;241m/\u001b[39m model \u001b[38;5;241m/\u001b[39m \u001b[38;5;124mf\u001b[39m\u001b[38;5;124m'\u001b[39m\u001b[38;5;132;01m{\u001b[39;00mm_type\u001b[38;5;132;01m}\u001b[39;00m\u001b[38;5;124m_match\u001b[39m\u001b[38;5;124m'\u001b[39m\u001b[38;5;241m/\u001b[39m \u001b[38;5;124mf\u001b[39m\u001b[38;5;124m'\u001b[39m\u001b[38;5;132;01m{\u001b[39;00mimg\u001b[38;5;132;01m}\u001b[39;00m\u001b[38;5;124m.pt\u001b[39m\u001b[38;5;124m'\u001b[39m\n\u001b[1;32m     22\u001b[0m     i_match \u001b[38;5;241m=\u001b[39m (\n\u001b[0;32m---> 23\u001b[0m         \u001b[43mtorch\u001b[49m\u001b[38;5;241;43m.\u001b[39;49m\u001b[43mload\u001b[49m\u001b[43m(\u001b[49m\u001b[43mimg_file\u001b[49m\u001b[43m,\u001b[49m\u001b[43m \u001b[49m\u001b[43mmap_location\u001b[49m\u001b[38;5;241;43m=\u001b[39;49m\u001b[43mtorch\u001b[49m\u001b[38;5;241;43m.\u001b[39;49m\u001b[43mdevice\u001b[49m\u001b[43m(\u001b[49m\u001b[38;5;124;43m'\u001b[39;49m\u001b[38;5;124;43mcpu\u001b[39;49m\u001b[38;5;124;43m'\u001b[39;49m\u001b[43m)\u001b[49m\u001b[43m)\u001b[49m\n\u001b[1;32m     24\u001b[0m         \u001b[38;5;241m.\u001b[39mto(torch\u001b[38;5;241m.\u001b[39mfloat64)\n\u001b[1;32m     25\u001b[0m     )\n\u001b[1;32m     26\u001b[0m     s_match\u001b[38;5;241m.\u001b[39mappend(i_match)\n\u001b[1;32m     27\u001b[0m \u001b[38;5;28;01mif\u001b[39;00m avg \u001b[38;5;241m==\u001b[39m \u001b[38;5;28;01mTrue\u001b[39;00m:\n",
      "File \u001b[0;32m~/opt/miniconda3/envs/fsk/lib/python3.9/site-packages/torch/serialization.py:699\u001b[0m, in \u001b[0;36mload\u001b[0;34m(f, map_location, pickle_module, **pickle_load_args)\u001b[0m\n\u001b[1;32m    696\u001b[0m \u001b[38;5;28;01mif\u001b[39;00m \u001b[38;5;124m'\u001b[39m\u001b[38;5;124mencoding\u001b[39m\u001b[38;5;124m'\u001b[39m \u001b[38;5;129;01mnot\u001b[39;00m \u001b[38;5;129;01min\u001b[39;00m pickle_load_args\u001b[38;5;241m.\u001b[39mkeys():\n\u001b[1;32m    697\u001b[0m     pickle_load_args[\u001b[38;5;124m'\u001b[39m\u001b[38;5;124mencoding\u001b[39m\u001b[38;5;124m'\u001b[39m] \u001b[38;5;241m=\u001b[39m \u001b[38;5;124m'\u001b[39m\u001b[38;5;124mutf-8\u001b[39m\u001b[38;5;124m'\u001b[39m\n\u001b[0;32m--> 699\u001b[0m \u001b[38;5;28;01mwith\u001b[39;00m \u001b[43m_open_file_like\u001b[49m\u001b[43m(\u001b[49m\u001b[43mf\u001b[49m\u001b[43m,\u001b[49m\u001b[43m \u001b[49m\u001b[38;5;124;43m'\u001b[39;49m\u001b[38;5;124;43mrb\u001b[39;49m\u001b[38;5;124;43m'\u001b[39;49m\u001b[43m)\u001b[49m \u001b[38;5;28;01mas\u001b[39;00m opened_file:\n\u001b[1;32m    700\u001b[0m     \u001b[38;5;28;01mif\u001b[39;00m _is_zipfile(opened_file):\n\u001b[1;32m    701\u001b[0m         \u001b[38;5;66;03m# The zipfile reader is going to advance the current file position.\u001b[39;00m\n\u001b[1;32m    702\u001b[0m         \u001b[38;5;66;03m# If we want to actually tail call to torch.jit.load, we need to\u001b[39;00m\n\u001b[1;32m    703\u001b[0m         \u001b[38;5;66;03m# reset back to the original position.\u001b[39;00m\n\u001b[1;32m    704\u001b[0m         orig_position \u001b[38;5;241m=\u001b[39m opened_file\u001b[38;5;241m.\u001b[39mtell()\n",
      "File \u001b[0;32m~/opt/miniconda3/envs/fsk/lib/python3.9/site-packages/torch/serialization.py:231\u001b[0m, in \u001b[0;36m_open_file_like\u001b[0;34m(name_or_buffer, mode)\u001b[0m\n\u001b[1;32m    229\u001b[0m \u001b[38;5;28;01mdef\u001b[39;00m \u001b[38;5;21m_open_file_like\u001b[39m(name_or_buffer, mode):\n\u001b[1;32m    230\u001b[0m     \u001b[38;5;28;01mif\u001b[39;00m _is_path(name_or_buffer):\n\u001b[0;32m--> 231\u001b[0m         \u001b[38;5;28;01mreturn\u001b[39;00m \u001b[43m_open_file\u001b[49m\u001b[43m(\u001b[49m\u001b[43mname_or_buffer\u001b[49m\u001b[43m,\u001b[49m\u001b[43m \u001b[49m\u001b[43mmode\u001b[49m\u001b[43m)\u001b[49m\n\u001b[1;32m    232\u001b[0m     \u001b[38;5;28;01melse\u001b[39;00m:\n\u001b[1;32m    233\u001b[0m         \u001b[38;5;28;01mif\u001b[39;00m \u001b[38;5;124m'\u001b[39m\u001b[38;5;124mw\u001b[39m\u001b[38;5;124m'\u001b[39m \u001b[38;5;129;01min\u001b[39;00m mode:\n",
      "File \u001b[0;32m~/opt/miniconda3/envs/fsk/lib/python3.9/site-packages/torch/serialization.py:212\u001b[0m, in \u001b[0;36m_open_file.__init__\u001b[0;34m(self, name, mode)\u001b[0m\n\u001b[1;32m    211\u001b[0m \u001b[38;5;28;01mdef\u001b[39;00m \u001b[38;5;21m__init__\u001b[39m(\u001b[38;5;28mself\u001b[39m, name, mode):\n\u001b[0;32m--> 212\u001b[0m     \u001b[38;5;28msuper\u001b[39m(_open_file, \u001b[38;5;28mself\u001b[39m)\u001b[38;5;241m.\u001b[39m\u001b[38;5;21m__init__\u001b[39m(\u001b[38;5;28;43mopen\u001b[39;49m\u001b[43m(\u001b[49m\u001b[43mname\u001b[49m\u001b[43m,\u001b[49m\u001b[43m \u001b[49m\u001b[43mmode\u001b[49m\u001b[43m)\u001b[49m)\n",
      "\u001b[0;31mKeyboardInterrupt\u001b[0m: "
     ]
    }
   ],
   "source": [
    "i = 0\n",
    "for s, s_len in zip(synsets, s_lens):\n",
    "    c_match, c_labels = get_match(res_path, 'clip', synsets_imgs, center=False, avg=False, return_np=False)\n",
    "    s_preds = [\n",
    "        synsets[s] for s in torch.bincount(c_match[i:i+s_len].topk(10)[1].flatten()).topk(10)[1]\n",
    "    ]\n",
    "    i += s_len\n",
    "    #print(s, s_preds)\n",
    "    #print('\\n')"
   ]
  },
  {
   "cell_type": "markdown",
   "id": "9ff7c9fa-786f-4b99-a3ab-c6817f67fb1d",
   "metadata": {
    "tags": []
   },
   "source": [
    "### 2) Is the conceptual behavior of V+L models more human like?"
   ]
  },
  {
   "cell_type": "code",
   "execution_count": 39,
   "id": "44408d84-a28b-4e39-8a7f-854bd0839046",
   "metadata": {
    "tags": []
   },
   "outputs": [
    {
     "data": {
      "image/png": "[encoded data removed]",
      "text/plain": [
       "<Figure size 1500x500 with 3 Axes>"
      ]
     },
     "metadata": {},
     "output_type": "display_data"
    }
   ],
   "source": [
    "compare = {\n",
    "    'clip': ['sem_mcrae', 'vit_32', 'gpt'], \n",
    "    'vilt':['sem_mcrae', 'vit_32', 'bert'],\n",
    "    'albef': ['sem_mcrae', 'vit_16', 'bert']\n",
    "}\n",
    "fig, axes = plt.subplots(nrows=1, ncols=3, figsize=(15,5))\n",
    "for m, ax in zip(models, axes.flat):\n",
    "    c_res = []\n",
    "    for c in compare[m]:\n",
    "        file = res_path / 'rsa' / f'{m}_pred_{c}.pkl'\n",
    "        with open(file, 'rb') as f:\n",
    "            res = pickle.load(f)\n",
    "        res = pd.DataFrame(res, columns=['model', 'comparison_model', 'corr', 'p_val'])\n",
    "        res['corr'] = - res['corr']\n",
    "        if 'sem' not in c:\n",
    "            res = res.loc[res['corr'].idxmax()].to_frame().T\n",
    "        c_res.append(res)\n",
    "    c_res = pd.concat(c_res)\n",
    "    sns.barplot(\n",
    "        x='comparison_model', y='corr', data=c_res, ax=ax\n",
    "    )\n",
    "    ax.set(ylim=(0, 0.4))\n",
    "    ax.set(xlabel=None, ylabel='Correlation')\n",
    "    ax.set_xticklabels(ax.get_xticklabels(), rotation=50, size=13)\n",
    "    # ax.legend(loc='upper center', bbox_to_anchor=(0.5, 1.05),\n",
    "    #           ncol=6, fancybox=True, shadow=True)\n",
    "    ax.set_title(f'{m.upper()}')\n",
    "plt.tight_layout()\n",
    "plt.show()"
   ]
  },
  {
   "cell_type": "markdown",
   "id": "7789046d-cad3-472c-83de-53d661ef61bf",
   "metadata": {},
   "source": [
    "Since this analysis shoes that many information comes from visual perceptual or text encoders, and since we saw these models also have human-like information (put plot in appendix?), we carried out a variance partitioning analysis."
   ]
  },
  {
   "cell_type": "code",
   "execution_count": null,
   "id": "ce824d29-37ee-457f-9dea-6286ef5a0257",
   "metadata": {
    "tags": []
   },
   "outputs": [],
   "source": [
    "pred_var = {}\n",
    "for m in models:\n",
    "    m_var = pd.read_csv(project_path / 'results/rsa' / f'pred_var_{m}.csv', index_col=0)\n",
    "    m_var.index = m_var.index.fillna('all')\n",
    "    pred_var[m] = m_var\n",
    "pred_var = pd.concat(pred_var)\n",
    "pred_var = pred_var.reset_index().rename(columns={'level_0': 'model', 'level_1': 'feature_type', '0': 'r2'})\n",
    "\n",
    "fig, ax = plt.subplots(figsize=(7,3))\n",
    "sns.barplot(\n",
    "    x='feature_type', y='r2', hue='model', data=pred_var, \n",
    "    order=features_order, hue_order=models, palette= models_palette\n",
    ")\n",
    "ax.set(ylim=(0, 0.06))\n",
    "ax.set(xlabel=None, ylabel='Unique Variance Explained')\n",
    "ax.legend(loc='upper center', bbox_to_anchor=(0.5, 1.05),\n",
    "          ncol=6, fancybox=True, shadow=True)\n",
    "plt.tight_layout()\n",
    "plt.show()"
   ]
  },
  {
   "cell_type": "markdown",
   "id": "4f5b1d4c-fb54-4da8-8022-63d720c9d69c",
   "metadata": {},
   "source": [
    "vilt empata o gana, osea gana\n",
    "clip mas feature dependent, por que clip puede performear tan bien en los visio perceptuales y enciclopedicas"
   ]
  },
  {
   "cell_type": "markdown",
   "id": "4ae6d197-b388-46d5-9b5e-3b1af08073ce",
   "metadata": {},
   "source": [
    "tendria que tener un noise ceiling"
   ]
  },
  {
   "cell_type": "markdown",
   "id": "380232fb-4890-4407-ab8d-2e1daa9a62c9",
   "metadata": {},
   "source": [
    "- Show comparison of RSA of layers"
   ]
  },
  {
   "cell_type": "code",
   "execution_count": null,
   "id": "c0e2750a-9664-4803-a1f2-819c4b951887",
   "metadata": {},
   "outputs": [],
   "source": [
    "model_streams = [\n",
    "    'clip_img', 'clip_txt', 'vilt_multi', 'vilt_multi_img', 'vilt_multi_txt', \n",
    "    'albef_img', 'albef_txt', 'albef_multi', 'albef_multi_img', 'albef_multi_txt'\n",
    "]\n",
    "hs_var = {}\n",
    "for m in model_streams:\n",
    "    hs_var[m] = (\n",
    "        pd.read_csv(project_path / 'results/rsa' / f'hs_var_{m}.csv')\n",
    "        .rename(columns={'Unnamed: 0': 'layer', 'Unnamed: 1': 'feature_type', '0': 'r2'})\n",
    "        .fillna('all')\n",
    "    )\n",
    "hs_var = pd.concat(hs_var)\n",
    "hs_var = (\n",
    "    hs_var.loc[hs_var['feature_type'] == 'all']\n",
    "    .reset_index().drop(columns=['feature_type', 'level_1'])\n",
    "    .rename(columns={'level_0':'model'})\n",
    ")\n",
    "hs_var.loc[hs_var['model'].str.contains('multi')]"
   ]
  },
  {
   "cell_type": "code",
   "execution_count": null,
   "id": "2255f430-ecd7-4b83-a068-f729308f895a",
   "metadata": {},
   "outputs": [],
   "source": [
    "sns.set_style(\"whitegrid\")\n",
    "fig, axes = plt.subplots(nrows=2, ncols=3, figsize=(20,10))\n",
    "for m, ax in zip(['img', 'txt', 'multi'], axes.flat):\n",
    "    if m == 'multi':\n",
    "        \n",
    "    else:\n",
    "        m_data = hs_var.loc[hs_var['model'].str.contains(m)]\n",
    "    sns.lineplot(\n",
    "        x='layer', y='r2', hue='feature_type', data=m_data, \n",
    "        marker='o', dashes=False, ax=ax, palette=\"husl\"\n",
    "    )\n",
    "    ax.set(ylim=(0, 0.1))\n",
    "    ax.set_title(m, fontsize=20)\n",
    "    ax.tick_params(axis='y', labelsize=15)\n",
    "    ax.tick_params(axis='x', labelsize=15)\n",
    "    ax.get_legend().remove()\n",
    "    ax.set(ylabel=None)\n",
    "\n",
    "axes.flat[0].set_ylabel('r2', fontsize=15)\n",
    "lines, labels = axes.flat[0].get_legend_handles_labels()\n",
    "lgd = fig.legend(lines, labels, loc='upper center', bbox_to_anchor=(0.5, 1.08), ncol=6, fancybox=True, shadow=True, fontsize=18)\n",
    "\n",
    "plt.tight_layout()\n",
    "plt.show()"
   ]
  },
  {
   "cell_type": "markdown",
   "id": "a7ee2449-b050-48c1-8030-74fbee6541fd",
   "metadata": {
    "tags": []
   },
   "source": [
    "### 3) Does the conceptual development of V+L models resembles more to that of humans?"
   ]
  },
  {
   "cell_type": "markdown",
   "id": "01344887-a3c3-4551-9fb6-147e45ea9687",
   "metadata": {},
   "source": [
    "In humans the lexicalization is related to certain variables, like familiarity of the word, is perceptualness, etc."
   ]
  },
  {
   "cell_type": "markdown",
   "id": "b2bffd96-60b7-4195-b48d-89e520889d98",
   "metadata": {},
   "source": [
    "- Show comparison with pyscholinguistic variables"
   ]
  },
  {
   "cell_type": "markdown",
   "id": "12ac92bc-9fee-44ea-a6ab-515d98f7863a",
   "metadata": {
    "tags": []
   },
   "source": [
    "### 4) For dual-stream models, is the conceptual behavior more predominantly informed by one of its streams?"
   ]
  },
  {
   "cell_type": "markdown",
   "id": "0cd08ba8-d042-4417-ae33-923e5c7e7358",
   "metadata": {},
   "source": [
    "- Show similarity of final decision with layers across streams"
   ]
  },
  {
   "cell_type": "code",
   "execution_count": null,
   "id": "d5960656-cfa3-4ff8-ae7e-10d97616abad",
   "metadata": {},
   "outputs": [],
   "source": [
    "corr_info = []\n",
    "for m_info in multi_models_info:\n",
    "    m = m_info['dnn']\n",
    "    c_dist, c_labels = get_concept_match_distance(res_path, m, synsets_imgs)\n",
    "    for stream in m_info['stream']:\n",
    "        if stream == 'img':\n",
    "            st = stream\n",
    "        else:\n",
    "            st = f'{stream}_concepts'\n",
    "        for l in layers[f'{m}_{stream}']:\n",
    "            l_f = project_path / 'results/rsa/distances' / f'{m}_{st}_{l}.pkl'\n",
    "            with open(l_f, 'rb') as f:\n",
    "                l_dist, l_labels = pickle.load(f)\n",
    "            corr_coef, p_val = spearmanr(-c_dist, l_dist, nan_policy='omit')\n",
    "            corr_info.append([m, st, l, corr_coef, np.round(p_val, 4)])\n",
    "corr_info = pd.DataFrame(corr_info, columns=['model', 'stream', 'layer', 'corr', 'pval'])"
   ]
  },
  {
   "cell_type": "code",
   "execution_count": null,
   "id": "3d6536d5-9608-46cd-98a2-1f1b9fd16a90",
   "metadata": {},
   "outputs": [],
   "source": [
    "def plot_clip_corr():\n",
    "    fig, axes = plt.subplots(nrows=1, ncols=2, figsize=(15,5))\n",
    "    for stream, ax in zip(['img', 'txt_concepts'], axes.flat):\n",
    "        i_plot = corr_info.loc[\n",
    "            (corr_info['model']=='clip')\n",
    "            & (corr_info['stream'] == stream)\n",
    "        ]\n",
    "        sns.barplot(\n",
    "            x='layer', y='corr', data=i_plot, ax=ax\n",
    "        )\n",
    "        ax.set(ylim=(0, 0.4))\n",
    "        ax.set(xlabel=stream, ylabel='RSA')\n",
    "        # ax.legend(loc='upper center', bbox_to_anchor=(0.5, 1.05),\n",
    "        #           ncol=6, fancybox=True, shadow=True)\n",
    "    plt.tight_layout()\n",
    "    plt.show()\n",
    "plot_clip_corr()"
   ]
  },
  {
   "cell_type": "code",
   "execution_count": null,
   "id": "bd8478f1-bcbc-42bc-8a01-731c12462cd4",
   "metadata": {},
   "outputs": [],
   "source": [
    "def plot_albef_corr():\n",
    "    fig, axes = plt.subplots(nrows=1, ncols=3, figsize=(15,5))\n",
    "    for stream, ax in zip(['img', 'txt_concepts', 'multi_concepts'], axes.flat):\n",
    "        i_plot = corr_info.loc[\n",
    "            (corr_info['model']=='albef')\n",
    "            & (corr_info['stream'] == stream)\n",
    "        ]\n",
    "        sns.barplot(\n",
    "            x='layer', y='corr', data=i_plot, ax=ax\n",
    "        )\n",
    "        ax.set(ylim=(-0.1, 0.1))\n",
    "        ax.set(xlabel=stream, ylabel='RSA')\n",
    "        # ax.legend(loc='upper center', bbox_to_anchor=(0.5, 1.05),\n",
    "        #           ncol=6, fancybox=True, shadow=True)\n",
    "    plt.tight_layout()\n",
    "    plt.show()"
   ]
  },
  {
   "cell_type": "code",
   "execution_count": null,
   "id": "3bd2ae98-69e5-48ec-a1e9-f8393dc00825",
   "metadata": {},
   "outputs": [],
   "source": [
    "plot_albef_corr()"
   ]
  },
  {
   "cell_type": "code",
   "execution_count": null,
   "id": "65c5243b-8c3e-4685-81ea-e91e09b33287",
   "metadata": {},
   "outputs": [],
   "source": [
    "def plot_vilt_corr():\n",
    "    fig, ax = plt.subplots(figsize=(15,5))\n",
    "    i_plot = corr_info.loc[\n",
    "        (corr_info['model']=='vilt')\n",
    "    ]\n",
    "    sns.barplot(\n",
    "        x='layer', y='corr', data=i_plot, ax=ax\n",
    "    )\n",
    "    ax.set(ylim=(0, 0.7))\n",
    "    ax.set(xlabel='multi', ylabel='RSA')\n",
    "    # ax.legend(loc='upper center', bbox_to_anchor=(0.5, 1.05),\n",
    "    #           ncol=6, fancybox=True, shadow=True)\n",
    "    plt.tight_layout()\n",
    "    plt.show()\n",
    "plot_vilt_corr()"
   ]
  },
  {
   "cell_type": "markdown",
   "id": "8bb908e6-79ee-423f-9f9e-e3d831e99dc5",
   "metadata": {},
   "source": [
    "## B) Feature detection"
   ]
  },
  {
   "cell_type": "markdown",
   "id": "aba18876-cd7d-4dd9-92b5-4e26c7a933fb",
   "metadata": {
    "tags": []
   },
   "source": [
    "### 1) Can V+L lexicalize features?"
   ]
  },
  {
   "cell_type": "markdown",
   "id": "db2caae8-b1ba-41b4-bba3-9a2e37147fcb",
   "metadata": {},
   "source": [
    "#### Recall"
   ]
  },
  {
   "cell_type": "code",
   "execution_count": null,
   "id": "2f519474-dea2-4c68-92ec-415c2012c4ff",
   "metadata": {
    "jupyter": {
     "source_hidden": true
    },
    "tags": []
   },
   "outputs": [],
   "source": [
    "# Compute correct labels of features\n",
    "sem_ft_labels = torch.zeros(4928, 1863)\n",
    "i = 0\n",
    "for s, s_imgs in synsets_imgs.items():\n",
    "    f_idx = fsk_info.loc[fsk_info['synsets'] == s]['features_idx'].tolist()\n",
    "    for _ in s_imgs:\n",
    "        sem_ft_labels[i, f_idx] = 1\n",
    "        i += 1\n",
    "sem_ft_labels = sem_ft_labels.to(torch.int32)"
   ]
  },
  {
   "cell_type": "code",
   "execution_count": null,
   "id": "42c9b80c-4ede-4acd-bffc-750e98f508b0",
   "metadata": {
    "jupyter": {
     "source_hidden": true
    },
    "tags": []
   },
   "outputs": [],
   "source": [
    "rec = {}\n",
    "for m in models:\n",
    "    f_preds, f_labels = get_match(\n",
    "        (project_path/'results'), m, synsets_imgs, center=True, m_type='Feature'\n",
    "    )\n",
    "    rec[m] = recall(torch.Tensor(f_preds), sem_ft_labels, average=None, num_classes=1863, top_k=39)\n",
    "    print(f'Recall of {m.upper()} (%): {torch.mean(rec[m])} \\n')"
   ]
  },
  {
   "cell_type": "code",
   "execution_count": null,
   "id": "8119db94-7e83-4174-b297-16b3cde1c7d8",
   "metadata": {
    "jupyter": {
     "source_hidden": true
    },
    "tags": []
   },
   "outputs": [],
   "source": [
    "fig, axes = plt.subplots(nrows=1, ncols=3, figsize=(10,3))\n",
    "for m, ax in zip(models, axes.flat):\n",
    "    ax.hist(np.array(rec[m]), alpha=0.5, bins=np.linspace(0,1,10), label='Recall Values')\n",
    "    ax.set_title(f'{m.upper()}')\n",
    "    ax.set_ylim(0, 1100)\n",
    "plt.tight_layout()\n",
    "plt.show()"
   ]
  },
  {
   "cell_type": "code",
   "execution_count": null,
   "id": "0a1f9a4e-6f7d-4035-9a8a-0f7431dbc2a1",
   "metadata": {
    "jupyter": {
     "source_hidden": true
    },
    "tags": []
   },
   "outputs": [],
   "source": [
    "print('Number of features with more than 50% recall:\\n')\n",
    "for m in models:\n",
    "    print(f'{m.upper()}: {torch.sum(rec[m] > .5)}')"
   ]
  },
  {
   "cell_type": "code",
   "execution_count": null,
   "id": "b92ba816-5853-42fc-8bb8-4e611a787962",
   "metadata": {
    "jupyter": {
     "source_hidden": true
    },
    "tags": []
   },
   "outputs": [],
   "source": [
    "print('Top 10 features:')\n",
    "for m in models:\n",
    "    print(f'{m.upper()}: {[sem_ft[f] for f in rec[m].topk(10)[1].tolist()]}\\n')"
   ]
  },
  {
   "cell_type": "markdown",
   "id": "56bb565b-a7a5-4beb-a891-04892eef64c8",
   "metadata": {},
   "source": [
    "#### Coverage Error"
   ]
  },
  {
   "cell_type": "code",
   "execution_count": null,
   "id": "f1526069-0662-4eea-a4a6-72ed483ece9b",
   "metadata": {
    "jupyter": {
     "source_hidden": true
    },
    "tags": []
   },
   "outputs": [],
   "source": [
    "for m in models:\n",
    "    f_preds, f_labels = get_match(\n",
    "        (project_path/'results'), m, synsets_imgs, center=True, m_type='Feature'\n",
    "    )\n",
    "    ce = coverage_error(torch.Tensor(f_preds), sem_ft_labels) / 1863\n",
    "    print(f'Coverage error of {m.upper()} (%): {ce} \\n')"
   ]
  },
  {
   "cell_type": "markdown",
   "id": "4f6361f9-c0f9-49f3-a87f-ba25481e6039",
   "metadata": {},
   "source": [
    "#### Recall by feature type"
   ]
  },
  {
   "cell_type": "code",
   "execution_count": null,
   "id": "b98b2675-de19-4f69-9881-1b41817167e7",
   "metadata": {
    "jupyter": {
     "source_hidden": true
    },
    "tags": []
   },
   "outputs": [],
   "source": [
    "rec_f = []\n",
    "for m in models:\n",
    "    for f, f_idx in sem_ft_idx_by_type.items():\n",
    "        f_mean = torch.mean(rec[m][f_idx]).detach().numpy()\n",
    "        rec_f.append([m, f, f_mean])\n",
    "rec_f = pd.DataFrame(rec_f, columns=['model', 'feature_type', 'recall'])\n",
    "rec_f['recall'] = rec_f['recall'].astype(float)\n",
    "\n",
    "fig, ax = plt.subplots(figsize=(7,3))\n",
    "sns.barplot(\n",
    "    x='feature_type', y='recall', hue='model', \n",
    "    data=rec_f, order=features_order, hue_order=models\n",
    ")\n",
    "ax.set(ylim=(0, 0.7))\n",
    "ax.set(xlabel=None, ylabel='Accuracy')\n",
    "ax.legend(loc='upper center', bbox_to_anchor=(0.5, 1.05),\n",
    "          ncol=6, fancybox=True, shadow=True)\n",
    "plt.tight_layout()\n",
    "plt.show()"
   ]
  },
  {
   "cell_type": "markdown",
   "id": "51b35b0f-433b-4224-a0fa-d837172490c0",
   "metadata": {
    "jp-MarkdownHeadingCollapsed": true,
    "tags": []
   },
   "source": [
    "### 3) Is the conceptual behavior based on features similar to the obtained in the lexicalization task?"
   ]
  },
  {
   "cell_type": "markdown",
   "id": "2683c31a-1e26-447d-9d62-8585e634fbab",
   "metadata": {},
   "source": [
    "\"A perceptual concept is a verbal stimulus that substitutes for the common formal features\n",
    "of stimuli that define their class membership (e.g., chair).\" https://files.eric.ed.gov/fulltext/EJ800990.pdf"
   ]
  },
  {
   "cell_type": "code",
   "execution_count": null,
   "id": "559d81a0-82da-4baf-a8e3-7babf2a9a323",
   "metadata": {
    "jupyter": {
     "source_hidden": true
    },
    "tags": []
   },
   "outputs": [],
   "source": [
    "print(f'Correlation between concept distances and feature-based distances:')\n",
    "for m in models:\n",
    "    c_dist, c_labels = get_concept_match_distance(res_path, m, synsets_imgs, from_preds=True)\n",
    "    f_dist, f_labels = get_feature_match_distance(res_path, m, synsets_imgs)\n",
    "    corr, pval = spearmanr(-c_dist, f_dist)\n",
    "    print(f'{m.upper()}: correlation of {np.round(corr,3)}, pval of {np.round(pval,3)}')"
   ]
  },
  {
   "cell_type": "markdown",
   "id": "a54426fa-1937-4a42-9ae5-01c7c63ffae4",
   "metadata": {
    "tags": []
   },
   "source": [
    "### 4) How does the detection of concepts depends on the detection of features?"
   ]
  },
  {
   "cell_type": "code",
   "execution_count": null,
   "id": "57ed781d-5ab0-4586-8799-ce477938e482",
   "metadata": {
    "tags": []
   },
   "outputs": [],
   "source": [
    "mi = {}\n",
    "for m in models:\n",
    "    mi_m = (\n",
    "        pd.read_csv(res_path / 'mutual_info' / f'{m}.csv', index_col=0)\n",
    "        .stack().to_frame().reset_index()\n",
    "        .rename(columns={0: 'mutual information', 'level_0': 'synset', 'level_1': 'feature'})\n",
    "    )\n",
    "    mi_m\n",
    "    mi_m['feature_type'] = mi_m['feature'].apply(lambda f: sem_ft_type[f])\n",
    "    mi_m['sem_related'] = mi_m.apply(\n",
    "        lambda row: True if row['feature'] in synset_features[row['synset']] else False,\n",
    "        axis=1\n",
    "    )\n",
    "    f_preds, _ = get_match(\n",
    "        (project_path/'results'), m, synsets_imgs, center=True, m_type='Feature', avg=True\n",
    "    )\n",
    "    f_preds = f_preds.reshape(-1)\n",
    "    mi_m['match'] = list(f_preds)\n",
    "    mi_m = mi_m[['synset', 'feature', 'feature_type', 'sem_related', 'mutual information', 'match']]\n",
    "    mi_m['remove'] = mi_m.apply(\n",
    "        lambda row: True if row['synset'].split('-')[0] in row['feature'] else False,\n",
    "        axis=1\n",
    "    )\n",
    "    mi_m = mi_m.drop(mi_m.loc[mi_m['remove']==True].index)\n",
    "    mi_m = mi_m.drop('remove', axis=1)\n",
    "    mi[m] = mi_m"
   ]
  },
  {
   "cell_type": "code",
   "execution_count": null,
   "id": "7b5a2c96-ae7c-4f26-9a48-5fdb52cb29e8",
   "metadata": {
    "tags": []
   },
   "outputs": [],
   "source": [
    "for m in models:\n",
    "    print(m.upper())    \n",
    "    display(mi[m].groupby(['sem_related']).mean())"
   ]
  },
  {
   "cell_type": "code",
   "execution_count": null,
   "id": "d330e626-3674-435f-bdf2-316735ee1431",
   "metadata": {
    "tags": []
   },
   "outputs": [],
   "source": [
    "fig, axes = plt.subplots(nrows=1, ncols=3, figsize=(10,3))\n",
    "for m, ax in zip(models, axes.flat):\n",
    "    sns.histplot(\n",
    "        data=mi[m].groupby(['sem_related', 'synset']).mean().reset_index(), \n",
    "        x='mutual information', hue='sem_related', ax=ax\n",
    "    )\n",
    "    ax.set_title(f'{m.upper()}')\n",
    "plt.tight_layout()\n",
    "plt.show()"
   ]
  },
  {
   "cell_type": "code",
   "execution_count": null,
   "id": "f41dace4-8c93-4cf1-8a6e-cf6be2691360",
   "metadata": {},
   "outputs": [],
   "source": [
    "m = 'vilt'\n",
    "sorted_data = mi[m].sort_values(by='mutual information', ascending=False)[:400]\n",
    "sns.scatterplot(data=sorted_data, y='mutual information', x='match', hue='sem_related')\n",
    "plt.show()"
   ]
  },
  {
   "cell_type": "code",
   "execution_count": null,
   "id": "57c39444-129a-4465-9f37-ad95352f3c63",
   "metadata": {},
   "outputs": [],
   "source": [
    "from sklearn.cluster import KMeans\n",
    "\n",
    "X = mi['clip'][['mutual information', 'match']].values\n",
    "kmeans = KMeans(n_clusters=3, random_state=0).fit(X)"
   ]
  },
  {
   "cell_type": "code",
   "execution_count": null,
   "id": "b6599dff-a5d3-4eac-9cdb-3a360104fb76",
   "metadata": {},
   "outputs": [],
   "source": [
    "m = 'clip'\n",
    "s = synsets[2]\n",
    "data = mi[m].loc[mi[m]['synset'] == s].sort_values(by='mutual information', ascending=False)[:30]\n",
    "data"
   ]
  },
  {
   "cell_type": "code",
   "execution_count": null,
   "id": "5f1a7ca4-2868-49f6-a02d-a497a9b66d8e",
   "metadata": {},
   "outputs": [],
   "source": [
    "c_preds, _ = get_match(\n",
    "    (project_path/'results'), m, synsets_imgs, center=True,\n",
    ") \n",
    "f_preds, _ = get_match(\n",
    "    (project_path/'results'), m, synsets_imgs, center=True, m_type='Feature'\n",
    ")"
   ]
  },
  {
   "cell_type": "code",
   "execution_count": null,
   "id": "e7892cbf-f3f5-404d-8244-26767810f5fc",
   "metadata": {},
   "outputs": [],
   "source": [
    "plt.scatter(c_preds[:,3], f_preds[:, sem_ft_idx['a_bike']])"
   ]
  },
  {
   "cell_type": "markdown",
   "id": "a20fbcca-cfec-42c0-b663-2cca0841f7cd",
   "metadata": {},
   "source": [
    "- Compute overlap with the databases of co-occurrances and glvoe\n",
    "- Compute correlation to show that some are subset of not in the image"
   ]
  },
  {
   "cell_type": "markdown",
   "id": "eb8fd655-a964-4ca8-9ca1-42ab8a5326da",
   "metadata": {},
   "source": [
    "Idea: dicotimize results and get average feature value "
   ]
  },
  {
   "cell_type": "code",
   "execution_count": null,
   "id": "1dd4f2ff-b364-4297-a7fc-2c9e9b115920",
   "metadata": {},
   "outputs": [],
   "source": []
  }
 ],
 "metadata": {
  "kernelspec": {
   "display_name": "Python 3 (ipykernel)",
   "language": "python",
   "name": "python3"
  },
  "language_info": {
   "codemirror_mode": {
    "name": "ipython",
    "version": 3
   },
   "file_extension": ".py",
   "mimetype": "text/x-python",
   "name": "python",
   "nbconvert_exporter": "python",
   "pygments_lexer": "ipython3",
   "version": "3.9.13"
  }
 },
 "nbformat": 4,
 "nbformat_minor": 5
}
